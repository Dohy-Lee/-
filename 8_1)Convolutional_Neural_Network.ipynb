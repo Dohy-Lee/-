{
  "nbformat": 4,
  "nbformat_minor": 0,
  "metadata": {
    "colab": {
      "name": "8-1)Convolutional Neural Network.ipynb",
      "provenance": [],
      "collapsed_sections": [],
      "authorship_tag": "ABX9TyNLLWLVx95zY1OMn3D3D1ER",
      "include_colab_link": true
    },
    "kernelspec": {
      "name": "python3",
      "display_name": "Python 3"
    },
    "language_info": {
      "name": "python"
    }
  },
  "cells": [
    {
      "cell_type": "markdown",
      "metadata": {
        "id": "view-in-github",
        "colab_type": "text"
      },
      "source": [
        "<a href=\"https://colab.research.google.com/github/Dohy-Lee/ML_DL.Basic/blob/main/8_1)Convolutional_Neural_Network.ipynb\" target=\"_parent\"><img src=\"https://colab.research.google.com/assets/colab-badge.svg\" alt=\"Open In Colab\"/></a>"
      ]
    },
    {
      "cell_type": "code",
      "execution_count": 6,
      "metadata": {
        "colab": {
          "base_uri": "https://localhost:8080/"
        },
        "id": "JZLmepbWmTlk",
        "outputId": "c43d85f0-d458-431c-b96e-893f137aee54"
      },
      "outputs": [
        {
          "output_type": "execute_result",
          "data": {
            "text/plain": [
              "<keras.layers.pooling.AveragePooling2D at 0x7f9d6585f690>"
            ]
          },
          "metadata": {},
          "execution_count": 6
        }
      ],
      "source": [
        "#합성곱 신경망에서는 완전 연결 신경망(밀집 신경망)과 달리 뉴런을 필터 혹은 커널이라고 부름\n",
        "#필터=뉴런 개수, 커널=입력에 곱하는 가중치\n",
        "#특성 맵:합성곱 계산을 통해 얻은 출력\n",
        "#CNN:일반적으로 1개 이상의 합성곱 층을 쓴 인공 신경망. 이미지 처리분야에서 뛰어남\n",
        "from tensorflow import keras\n",
        "keras.layers.Conv2D(10, kernel_size=(3,3), activation='relu',padding='same',strides=1) #필터의 개수=10,커널의크기=3x3,활성화함수=Relu, 패딩의종류=세임패딩, 스트라이드 크기=1\n",
        "#패딩:입력 배열의 주위를 가상의 원소(0으로)로 채우는 것. 출력의 크기를 늘리기위해 씀 & 이미지의 주변에 있는 정보를 잃어버리지 않도록 해줌\n",
        "#세임 패딩:입력과 특성 맵의 크기를 동일하게 만들기 위해 입력 주위에 0으로 패딩\n",
        "#밸리드 패딩:패딩없이 순수한 입력 배열에서만 합성공을 하여 특성 맵을 얻는 경우 →필연적으로 특성 맵의 크기가 줄어듦\n",
        "#스트라이드:커널의 이동 크기, 특성 맵의 크기를 줄이게 위해 씀(보통 스트라이드를 1로 쓰므로, 매개변수로 지정을 잘 하지 않음)\n",
        "keras.layers.MaxPooling2D(2, strides=2, padding='valid') #풀링의크기2, 스트라이드=2(기본값은 자동으로 풀링의 크기이므로 따로 지정할 필요 없음),패딩=밸리드패딩\n",
        "keras.layers.AveragePooling2D(2)\n",
        "#풀링:합성곱 층에서 만든 특성 맵의 가로세로 크기를 줄이는 역할, 하지만 특성 맵의 개수를 줄이지는 않음. 이동 크기=풀링의 크기\n",
        "#합성곱을 하는 영역에서 가장 큰 값(=최대 풀링)을 고르거나 평균(=평균 풀링)을 고름\n",
        "#보통 최대 풀링을 많이 씀. 평균 풀링은 특성 맵에 있는 중요한 정보를 희석시킬 수 있기 때문에\n",
        "#풀링을 사용하는 이유:합성곱에서 스트라이드를 크게 하여 특성 맵을 줄이는 것보다 풀링 층에서 크기를 줄이는 것이 더 나은 성능을 내기 때문에"
      ]
    }
  ]
}