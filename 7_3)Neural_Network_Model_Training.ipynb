{
  "nbformat": 4,
  "nbformat_minor": 0,
  "metadata": {
    "colab": {
      "name": "7-3)Neural Network Model Training.ipynb",
      "provenance": [],
      "collapsed_sections": [],
      "authorship_tag": "ABX9TyOkgDEFQv+kGGvfc7ohPeT9",
      "include_colab_link": true
    },
    "kernelspec": {
      "name": "python3",
      "display_name": "Python 3"
    },
    "language_info": {
      "name": "python"
    },
    "accelerator": "GPU"
  },
  "cells": [
    {
      "cell_type": "markdown",
      "metadata": {
        "id": "view-in-github",
        "colab_type": "text"
      },
      "source": [
        "<a href=\"https://colab.research.google.com/github/Dohy-Lee/ML_DL.Basic/blob/main/7_3)Neural_Network_Model_Training.ipynb\" target=\"_parent\"><img src=\"https://colab.research.google.com/assets/colab-badge.svg\" alt=\"Open In Colab\"/></a>"
      ]
    },
    {
      "cell_type": "code",
      "execution_count": 1,
      "metadata": {
        "colab": {
          "base_uri": "https://localhost:8080/"
        },
        "id": "lSQIOm-oS5j_",
        "outputId": "f49e5a39-21a8-41d6-fc90-8532cc41291f"
      },
      "outputs": [
        {
          "output_type": "stream",
          "name": "stdout",
          "text": [
            "Downloading data from https://storage.googleapis.com/tensorflow/tf-keras-datasets/train-labels-idx1-ubyte.gz\n",
            "32768/29515 [=================================] - 0s 0us/step\n",
            "40960/29515 [=========================================] - 0s 0us/step\n",
            "Downloading data from https://storage.googleapis.com/tensorflow/tf-keras-datasets/train-images-idx3-ubyte.gz\n",
            "26427392/26421880 [==============================] - 0s 0us/step\n",
            "26435584/26421880 [==============================] - 0s 0us/step\n",
            "Downloading data from https://storage.googleapis.com/tensorflow/tf-keras-datasets/t10k-labels-idx1-ubyte.gz\n",
            "16384/5148 [===============================================================================================] - 0s 0us/step\n",
            "Downloading data from https://storage.googleapis.com/tensorflow/tf-keras-datasets/t10k-images-idx3-ubyte.gz\n",
            "4423680/4422102 [==============================] - 0s 0us/step\n",
            "4431872/4422102 [==============================] - 0s 0us/step\n"
          ]
        }
      ],
      "source": [
        "from tensorflow import keras\n",
        "from sklearn.model_selection import train_test_split\n",
        "(train_input, train_target),(test_input,test_target)=\\\n",
        "  keras.datasets.fashion_mnist.load_data()\n",
        "train_scaled = train_input / 255.0\n",
        "train_scaled, val_scaled, train_target, val_target = train_test_split(train_scaled, train_target, test_size = 0.2, random_state = 42)"
      ]
    },
    {
      "cell_type": "code",
      "source": [
        "def model_fn(a_layer=None):\n",
        "  model = keras.Sequential()\n",
        "  model.add(keras.layers.Flatten(input_shape=(28,28)))\n",
        "  model.add(keras.layers.Dense(100,activation='relu'))\n",
        "  if a_layer:#케라스층을 추가한다면\n",
        "    model.add(a_layer) #은닉층 뒤에 또 하나의 층 추가\n",
        "  model.add(keras.layers.Dense(10,activation='softmax'))\n",
        "  return model"
      ],
      "metadata": {
        "id": "uGUu7H6yVgcH"
      },
      "execution_count": 2,
      "outputs": []
    },
    {
      "cell_type": "code",
      "source": [
        "model = model_fn()\n",
        "model.summary()"
      ],
      "metadata": {
        "colab": {
          "base_uri": "https://localhost:8080/"
        },
        "id": "xbWZx930XaEB",
        "outputId": "6a101cdc-2db4-4556-a700-a00c23152c6c"
      },
      "execution_count": 3,
      "outputs": [
        {
          "output_type": "stream",
          "name": "stdout",
          "text": [
            "Model: \"sequential\"\n",
            "_________________________________________________________________\n",
            " Layer (type)                Output Shape              Param #   \n",
            "=================================================================\n",
            " flatten (Flatten)           (None, 784)               0         \n",
            "                                                                 \n",
            " dense (Dense)               (None, 100)               78500     \n",
            "                                                                 \n",
            " dense_1 (Dense)             (None, 10)                1010      \n",
            "                                                                 \n",
            "=================================================================\n",
            "Total params: 79,510\n",
            "Trainable params: 79,510\n",
            "Non-trainable params: 0\n",
            "_________________________________________________________________\n"
          ]
        }
      ]
    },
    {
      "cell_type": "code",
      "source": [
        "model.compile(loss='sparse_categorical_crossentropy', metrics='accuracy')\n",
        "history = model.fit(train_scaled, train_target, epochs=5, verbose=0)# verbose = 0 :훈련과정 출력 X, 1 : 진행 막대 및 손실 등의 지표 출력, 2: 진행 막대 제외한 손실 등의 지표 출력\n",
        "print(history.history.keys())#history 객체 안에는 훈련 측정값이 담긴 history 딕션너리가 있음"
      ],
      "metadata": {
        "colab": {
          "base_uri": "https://localhost:8080/"
        },
        "id": "ZygQM_0RXesB",
        "outputId": "c740d327-365d-4f01-c95c-98b4da2791c8"
      },
      "execution_count": 4,
      "outputs": [
        {
          "output_type": "stream",
          "name": "stdout",
          "text": [
            "dict_keys(['loss', 'accuracy'])\n"
          ]
        }
      ]
    },
    {
      "cell_type": "code",
      "source": [
        "#손실값\n",
        "import matplotlib.pyplot as plt\n",
        "plt.plot(history.history['loss'])\n",
        "plt.xlabel('epoch')\n",
        "plt.ylabel('loss')\n",
        "plt.show()"
      ],
      "metadata": {
        "colab": {
          "base_uri": "https://localhost:8080/",
          "height": 279
        },
        "id": "jjNrGArfYL-d",
        "outputId": "d3f28cbe-1815-4312-bda1-4482da746fd0"
      },
      "execution_count": 5,
      "outputs": [
        {
          "output_type": "display_data",
          "data": {
            "text/plain": [
              "<Figure size 432x288 with 1 Axes>"
            ],
            "image/png": "[encoded data removed]"
          },
          "metadata": {
            "needs_background": "light"
          }
        }
      ]
    },
    {
      "cell_type": "code",
      "source": [
        "#정확도\n",
        "plt.plot(history.history['accuracy'])\n",
        "plt.xlabel('epoch')\n",
        "plt.ylabel('accuracy')\n",
        "plt.show()"
      ],
      "metadata": {
        "colab": {
          "base_uri": "https://localhost:8080/",
          "height": 279
        },
        "id": "9suL7MToYU36",
        "outputId": "19be47ad-3f5e-483b-b00b-75d33ce8a156"
      },
      "execution_count": 6,
      "outputs": [
        {
          "output_type": "display_data",
          "data": {
            "text/plain": [
              "<Figure size 432x288 with 1 Axes>"
            ],
            "image/png": "[encoded data removed]"
          },
          "metadata": {
            "needs_background": "light"
          }
        }
      ]
    },
    {
      "cell_type": "code",
      "source": [
        "#loss가 점차 줄어듦으로, 에포크를 늘림\n",
        "model = model_fn()\n",
        "model.compile(loss='sparse_categorical_crossentropy', metrics='accuracy')\n",
        "history = model.fit(train_scaled, train_target, epochs=20, verbose= 0)\n",
        "plt.plot(history.history['loss'])\n",
        "plt.xlabel('epoch')\n",
        "plt.ylabel('loss')\n",
        "plt.show()"
      ],
      "metadata": {
        "colab": {
          "base_uri": "https://localhost:8080/",
          "height": 279
        },
        "id": "QrH14hexY4i9",
        "outputId": "8e6004f2-87cd-4597-ab86-28629f7e40eb"
      },
      "execution_count": 7,
      "outputs": [
        {
          "output_type": "display_data",
          "data": {
            "text/plain": [
              "<Figure size 432x288 with 1 Axes>"
            ],
            "image/png": "[encoded data removed]"
          },
          "metadata": {
            "needs_background": "light"
          }
        }
      ]
    },
    {
      "cell_type": "code",
      "source": [
        "#인공 신경망 모델이 최적화하는 대상은 손실 함수임. 손실 감소에 비례하여 정확도가 높아지지 않는 경우도 있기에, 손실 함수의 값을 확인하는 것이 더 나음\n",
        "model = model_fn()\n",
        "model.compile(loss='sparse_categorical_crossentropy',metrics='accuracy')\n",
        "history = model.fit(train_scaled, train_target, epochs=20, verbose=0, validation_data=(val_scaled,val_target))\n",
        "print(history.history.keys())"
      ],
      "metadata": {
        "colab": {
          "base_uri": "https://localhost:8080/"
        },
        "id": "FPeBJXLUZw1O",
        "outputId": "0e1cbb33-9dfe-4f33-8891-9766183bb80f"
      },
      "execution_count": 8,
      "outputs": [
        {
          "output_type": "stream",
          "name": "stdout",
          "text": [
            "dict_keys(['loss', 'accuracy', 'val_loss', 'val_accuracy'])\n"
          ]
        }
      ]
    },
    {
      "cell_type": "code",
      "source": [
        "plt.plot(history.history['loss'])\n",
        "plt.plot(history.history['val_loss'])\n",
        "plt.xlabel('epoch')\n",
        "plt.ylabel('loss')\n",
        "plt.legend(['train','val'])\n",
        "plt.show() #훈련데이터에 대해선 계속 loss가 감소하지만, 검증 데이터에 대해선 약 6에포크 이후로 증가함 → 과대적합의 경향을 띠고 있음\n",
        "           #검증 손실이 증가하는 시점(약 6 에포크)을 간으한 뒤로 늦추면 검증 세트에 대한 손실이 줄어듦 & 검증 세트에 대한 정확도 증가"
      ],
      "metadata": {
        "colab": {
          "base_uri": "https://localhost:8080/",
          "height": 280
        },
        "id": "YmzGad1abFT7",
        "outputId": "d9b517b0-eae3-419a-989a-420a0cac316d"
      },
      "execution_count": 9,
      "outputs": [
        {
          "output_type": "display_data",
          "data": {
            "text/plain": [
              "<Figure size 432x288 with 1 Axes>"
            ],
            "image/png": "[encoded data removed]"
          },
          "metadata": {
            "needs_background": "light"
          }
        }
      ]
    },
    {
      "cell_type": "code",
      "source": [
        "#RMSporp 옵티마이저는 많은 문제에 대해 잘 동작함. RMSprop대신 다른 옵티마이저를 테스트해본다면 Adam이 좋은 선택이 될 것\n",
        "#Adam : 적응적 학습률을 사용하기 때문에 에포크가 진행되면서 학습률의 크기를 조정할 수 있음.\n",
        "model = model_fn()\n",
        "model.compile(optimizer='adam', loss = 'sparse_categorical_crossentropy',metrics='accuracy') #adam의 학습률 조정 해보기\n",
        "history = model.fit(train_scaled, train_target, epochs=20, verbose=0, validation_data=(val_scaled, val_target))\n",
        "plt.plot(history.history['loss'])\n",
        "plt.plot(history.history['val_loss'])\n",
        "plt.xlabel('epoch')\n",
        "plt.ylabel('loss')\n",
        "plt.legend(['train','val'])\n",
        "plt.show()#adam을 쓰기 전보다 과대적합이 훨씬 줆"
      ],
      "metadata": {
        "colab": {
          "base_uri": "https://localhost:8080/",
          "height": 279
        },
        "id": "YGuMGwaocBIR",
        "outputId": "79d20646-d61a-4e20-c1d5-f29102612227"
      },
      "execution_count": 10,
      "outputs": [
        {
          "output_type": "display_data",
          "data": {
            "text/plain": [
              "<Figure size 432x288 with 1 Axes>"
            ],
            "image/png": "[encoded data removed]"
          },
          "metadata": {
            "needs_background": "light"
          }
        }
      ]
    },
    {
      "cell_type": "code",
      "source": [
        "#드롭아웃 : 훈련 과정에서 층에 있는 일부 뉴런을 랜덤하게 꺼서 과대적합을 막음\n",
        "#1. 일부 뉴런이 랜덤하게 꺼지면 특정 뉴런에 과대하게 의존하는 것을 줄일 수 있고, 모든 입력에 주의를 기울여야함\n",
        "#2. 각각의 랜덤하게 뉴런이 꺼진 신경망들의 앙상블로도 볼 수 있음\n",
        "# 평가와 예측에 사용될 때는 드롭아웃을 하지 않음(하지않아야 함)\n",
        "model = model_fn(keras.layers.Dropout(0.3)) # 30%정도의 드롭아웃\n",
        "model.summary()"
      ],
      "metadata": {
        "colab": {
          "base_uri": "https://localhost:8080/"
        },
        "id": "Nib_Z1Mmcrvw",
        "outputId": "a6d12f0e-8125-484a-ab9a-b881915c71d7"
      },
      "execution_count": 11,
      "outputs": [
        {
          "output_type": "stream",
          "name": "stdout",
          "text": [
            "Model: \"sequential_4\"\n",
            "_________________________________________________________________\n",
            " Layer (type)                Output Shape              Param #   \n",
            "=================================================================\n",
            " flatten_4 (Flatten)         (None, 784)               0         \n",
            "                                                                 \n",
            " dense_8 (Dense)             (None, 100)               78500     \n",
            "                                                                 \n",
            " dropout (Dropout)           (None, 100)               0         \n",
            "                                                                 \n",
            " dense_9 (Dense)             (None, 10)                1010      \n",
            "                                                                 \n",
            "=================================================================\n",
            "Total params: 79,510\n",
            "Trainable params: 79,510\n",
            "Non-trainable params: 0\n",
            "_________________________________________________________________\n"
          ]
        }
      ]
    },
    {
      "cell_type": "code",
      "source": [
        "model.compile(optimizer='adam', loss='sparse_categorical_crossentropy',metrics='accuracy')\n",
        "history = model.fit(train_scaled, train_target, epochs=20, verbose=0, validation_data=(val_scaled, val_target))\n",
        "plt.plot(history.history['loss'])\n",
        "plt.plot(history.history['val_loss'])\n",
        "plt.xlabel('epoch')\n",
        "plt.ylabel('loss')\n",
        "plt.legend(['train','val'])\n",
        "plt.show() #에포크 횟수를 약 10~11회로 줄여야함"
      ],
      "metadata": {
        "colab": {
          "base_uri": "https://localhost:8080/",
          "height": 281
        },
        "id": "ZGBnHaZEd9nO",
        "outputId": "c0a0d070-f95e-4cb0-83dc-b0124a099f2f"
      },
      "execution_count": 12,
      "outputs": [
        {
          "output_type": "display_data",
          "data": {
            "text/plain": [
              "<Figure size 432x288 with 1 Axes>"
            ],
            "image/png": "[encoded data removed]"
          },
          "metadata": {
            "needs_background": "light"
          }
        }
      ]
    },
    {
      "cell_type": "code",
      "source": [
        "model = model_fn(keras.layers.Dropout(0.3))\n",
        "model.compile(optimizer='adam',loss='sparse_categorical_crossentropy',metrics='accuracy')\n",
        "history = model.fit(train_scaled, train_target, epochs=10, verbose = 0, validation_data = (val_scaled, val_target))\n",
        "model.save_weights('model-weights.h5')#save_weight : 훈련된 모델의 파라미터 저장. 일반적으로 텐서플로의 체크포인트 포맷으로 저장하지만, 파일 확장자가 '.h5'일 경우 HDF5 포맷으로 저장\n",
        "model.save('model-whole.h5') #save :모델 구조와 모델 파라미터를 함께 저장. 일반적으로 텐서플로의 체크포인트 포맷으로 저장하지만, 파일 확장자가 '.h5'일 경우 HDF5 포맷으로 저장"
      ],
      "metadata": {
        "id": "sodpFB_LfLBZ"
      },
      "execution_count": 13,
      "outputs": []
    },
    {
      "cell_type": "code",
      "source": [
        "!ls -al *.h5"
      ],
      "metadata": {
        "colab": {
          "base_uri": "https://localhost:8080/"
        },
        "id": "gbY74Z_DgU21",
        "outputId": "6669d965-6423-452a-da3a-5189e9ae5d55"
      },
      "execution_count": 14,
      "outputs": [
        {
          "output_type": "stream",
          "name": "stdout",
          "text": [
            "-rw-r--r-- 1 root root 333448 Jun 25 17:44 model-weights.h5\n",
            "-rw-r--r-- 1 root root 982664 Jun 25 17:44 model-whole.h5\n"
          ]
        }
      ]
    },
    {
      "cell_type": "code",
      "source": [
        "#훈련하지 않은 모델 + 파라미터는 model.save_weights\n",
        "model = model_fn(keras.layers.Dropout(0.3))\n",
        "model.load_weights('model-weights.h5')#load_weights : save_weights메소드로 저장했던 모델과 정확히 같은 구조를 가져야함\n",
        "#참고사항 evalueate 메소드는 손실을 계산하기 위해선 compile()메소드가 선행되어야함. 여기선 정확도만 필요하므로 안씀\n",
        "import numpy as np\n",
        "val_labels = np.argmax(model.predict(val_scaled), axis=-1) #argmax : 배열에서 가장 큰 값의 인덱스 반환, \n",
        "                                                          #케라스의 predict : sklearn과 달리 10개의 클래스(패션MNIST가 10개의 다중분류이기 때문에, 이진 분류라면 양성클래스에 대한 확률 하나만)에 대한 확률 반환 \n",
        "print(np.mean(val_labels == val_target))"
      ],
      "metadata": {
        "colab": {
          "base_uri": "https://localhost:8080/"
        },
        "id": "FfkP_zlUgmeX",
        "outputId": "64a0b370-9b86-489b-9980-903f6aa45a23"
      },
      "execution_count": 30,
      "outputs": [
        {
          "output_type": "stream",
          "name": "stdout",
          "text": [
            "0.88\n"
          ]
        }
      ]
    },
    {
      "cell_type": "code",
      "source": [
        "model = keras.models.load_model('model-whole.h5')\n",
        "#load_model쓰면 compile메소드 없이 evaluate 메소드 사용 가능\n",
        "model.evaluate(val_scaled, val_target) "
      ],
      "metadata": {
        "colab": {
          "base_uri": "https://localhost:8080/"
        },
        "id": "1jQGzdrZllAO",
        "outputId": "5b1f6a84-c642-4f3a-9644-a19c7e0b6523"
      },
      "execution_count": 32,
      "outputs": [
        {
          "output_type": "stream",
          "name": "stdout",
          "text": [
            "375/375 [==============================] - 1s 2ms/step - loss: 0.3334 - accuracy: 0.8800\n"
          ]
        },
        {
          "output_type": "execute_result",
          "data": {
            "text/plain": [
              "[0.3333590626716614, 0.8799999952316284]"
            ]
          },
          "metadata": {},
          "execution_count": 32
        }
      ]
    },
    {
      "cell_type": "code",
      "source": [
        "#콜백 : 훈련 과정 중간에 어떤 작업을 수행할 수 있게 해주는 메소드. fit메서드의 callbacks 매개변수에 리스트로 전달하여 사용함\n",
        "model = model_fn(keras.layers.Dropout(0.3))\n",
        "model.compile(optimizer='adam',loss='sparse_categorical_crossentropy',metrics='accuracy')\n",
        "checkpoint_cb=keras.callbacks.ModelCheckpoint('best-model.h5') #ModelCheckpoint 콜백 : 기본적으로 최상의 검증 점수를 만드는 모델을 저장 \n",
        "model.fit(train_scaled, train_target, epochs=20, verbose=0, validation_data=(val_scaled, val_target), callbacks=[checkpoint_cb])"
      ],
      "metadata": {
        "colab": {
          "base_uri": "https://localhost:8080/"
        },
        "id": "sPmib-HjmcIF",
        "outputId": "c04eb169-9030-46fc-d87b-58957fd0b8ba"
      },
      "execution_count": 33,
      "outputs": [
        {
          "output_type": "execute_result",
          "data": {
            "text/plain": [
              "<keras.callbacks.History at 0x7f77e62f89d0>"
            ]
          },
          "metadata": {},
          "execution_count": 33
        }
      ]
    },
    {
      "cell_type": "code",
      "source": [
        "model = keras.models.load_model('best-model.h5')\n",
        "model.compile\n",
        "model.evaluate(val_scaled, val_target)"
      ],
      "metadata": {
        "colab": {
          "base_uri": "https://localhost:8080/"
        },
        "id": "ZcmijiAknIo0",
        "outputId": "fa511d05-560e-4642-a27a-65cfb862deeb"
      },
      "execution_count": 34,
      "outputs": [
        {
          "output_type": "stream",
          "name": "stdout",
          "text": [
            "375/375 [==============================] - 1s 2ms/step - loss: 0.3310 - accuracy: 0.8854\n"
          ]
        },
        {
          "output_type": "execute_result",
          "data": {
            "text/plain": [
              "[0.3310128450393677, 0.8854166865348816]"
            ]
          },
          "metadata": {},
          "execution_count": 34
        }
      ]
    },
    {
      "cell_type": "code",
      "source": [
        "#조기 종료 : 검증 점수가 상승하기 시작하면 그 이후에는 과대적합이 더 커저기에 훈련을 계속할 필요가 없음 → 이때 훈련을 중지하면 컴퓨터 자원과 시간을 아낄 수 있음. 훈련 에포크 횟수를 제한 하는 역할이지만 모델의 과대적합을 막아주기에 규제 방법중 하나로 생각할 수 있음\n",
        "model = model_fn(keras.layers.Dropout(0.3))\n",
        "model.compile(optimizer='adam',loss='sparse_categorical_crossentropy', metrics='accuracy')\n",
        "checkpint_cb=keras.callbacks.ModelCheckpoint('best-model.h5')\n",
        "early_stopping_cb = keras.callbacks.EarlyStopping(patience=2,restore_best_weights=True) #EarlyStopping : 조기종료 메소드. patience : 검증 점수가 향상되지 않더라도 참을 에포크 횟수, restore_best_weights = True : 가장 낮은 검증 손시을 낸 모델의 파라미터로 복구\n",
        "history = model.fit(train_scaled, train_target, epochs=20, verbose=0, validation_data=(val_scaled,val_target), callbacks=[checkpoint_cb , early_stopping_cb]) #훈련을 마치고 난 후, 몇 번째 에포크에서 훈련이 중지되었는지 early_stopping_ch 객체의 stopped_epcoh 속성에서 확인 가능\n",
        "print(early_stopping_cb.stopped_epoch) #에포크는 0에서부터 시작, 또한 patience를 2로 지정하였으므로, 최상의 모델의 에포크는 5번쨰 에포크임(return이 6이므로 7번째 에포크 - 2(patience))"
      ],
      "metadata": {
        "colab": {
          "base_uri": "https://localhost:8080/"
        },
        "id": "xIghl6DLnSLN",
        "outputId": "77c4067b-4b54-41e9-f27c-c40db0655611"
      },
      "execution_count": 36,
      "outputs": [
        {
          "output_type": "stream",
          "name": "stdout",
          "text": [
            "6\n"
          ]
        }
      ]
    },
    {
      "cell_type": "code",
      "source": [
        "plt.plot(history.history['loss'])\n",
        "plt.plot(history.history['val_loss'])\n",
        "plt.xlabel('epoch')\n",
        "plt.ylabel('loss')\n",
        "plt.legend(['train','val'])\n",
        "plt.show()"
      ],
      "metadata": {
        "colab": {
          "base_uri": "https://localhost:8080/",
          "height": 279
        },
        "id": "8WG0rmlYoclR",
        "outputId": "977ab4a8-295b-41f5-db0c-1a8ff574d1df"
      },
      "execution_count": 37,
      "outputs": [
        {
          "output_type": "display_data",
          "data": {
            "text/plain": [
              "<Figure size 432x288 with 1 Axes>"
            ],
            "image/png": "[encoded data removed]"
          },
          "metadata": {
            "needs_background": "light"
          }
        }
      ]
    },
    {
      "cell_type": "code",
      "source": [
        "model.evaluate(val_scaled, val_target) #조기 종료로 얻은 모델의 검증 세트에 대한 성능"
      ],
      "metadata": {
        "colab": {
          "base_uri": "https://localhost:8080/"
        },
        "id": "FnLXxJviotNS",
        "outputId": "0e982363-1fd1-4233-f9b9-da0858b7571b"
      },
      "execution_count": 38,
      "outputs": [
        {
          "output_type": "stream",
          "name": "stdout",
          "text": [
            "375/375 [==============================] - 1s 3ms/step - loss: 0.3373 - accuracy: 0.8785\n"
          ]
        },
        {
          "output_type": "execute_result",
          "data": {
            "text/plain": [
              "[0.3373262584209442, 0.8784999847412109]"
            ]
          },
          "metadata": {},
          "execution_count": 38
        }
      ]
    }
  ]
}