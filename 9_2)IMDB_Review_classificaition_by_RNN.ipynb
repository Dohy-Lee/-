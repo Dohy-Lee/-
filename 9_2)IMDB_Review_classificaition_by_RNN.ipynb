{
  "nbformat": 4,
  "nbformat_minor": 0,
  "metadata": {
    "colab": {
      "name": "9-2)IMDB Review classificaition by RNN.ipynb",
      "provenance": [],
      "collapsed_sections": [],
      "authorship_tag": "ABX9TyNlu5BwlEgpipcBFD5UnlkS",
      "include_colab_link": true
    },
    "kernelspec": {
      "name": "python3",
      "display_name": "Python 3"
    },
    "language_info": {
      "name": "python"
    }
  },
  "cells": [
    {
      "cell_type": "markdown",
      "metadata": {
        "id": "view-in-github",
        "colab_type": "text"
      },
      "source": [
        "<a href=\"https://colab.research.google.com/github/Dohy-Lee/ML_DL.Basic/blob/main/9_2)IMDB_Review_classificaition_by_RNN.ipynb\" target=\"_parent\"><img src=\"https://colab.research.google.com/assets/colab-badge.svg\" alt=\"Open In Colab\"/></a>"
      ]
    },
    {
      "cell_type": "code",
      "execution_count": 2,
      "metadata": {
        "colab": {
          "base_uri": "https://localhost:8080/"
        },
        "id": "11SZmhPj1_8l",
        "outputId": "9bdfb9a0-874c-4686-8645-d801b140c1dc"
      },
      "outputs": [
        {
          "output_type": "stream",
          "name": "stdout",
          "text": [
            "Downloading data from https://storage.googleapis.com/tensorflow/tf-keras-datasets/imdb.npz\n",
            "17465344/17464789 [==============================] - 0s 0us/step\n",
            "17473536/17464789 [==============================] - 0s 0us/step\n"
          ]
        }
      ],
      "source": [
        "from tensorflow.keras.datasets import imdb\n",
        "(train_input, train_target),(test_input, test_output) = imdb.load_data(num_words=500)"
      ]
    },
    {
      "cell_type": "code",
      "source": [
        "print(train_input.shape, test_input.shape) #개별 리뷰를 담은 파이썬 리스트 객체로 이루어진 넘파이 배열"
      ],
      "metadata": {
        "colab": {
          "base_uri": "https://localhost:8080/"
        },
        "id": "zbyR2E8T7HO3",
        "outputId": "9b6dad94-88ae-4a5e-fb1c-c26d656f62d4"
      },
      "execution_count": 3,
      "outputs": [
        {
          "output_type": "stream",
          "name": "stdout",
          "text": [
            "(25000,) (25000,)\n"
          ]
        }
      ]
    },
    {
      "cell_type": "code",
      "source": [
        "print(len(train_input[0]))#첫 번째 리뷰의 길이와 내용\n",
        "print(train_input[0])"
      ],
      "metadata": {
        "colab": {
          "base_uri": "https://localhost:8080/"
        },
        "id": "QXnmH_V67LvH",
        "outputId": "5c77aa57-04e4-4042-b505-948fcf06a668"
      },
      "execution_count": 4,
      "outputs": [
        {
          "output_type": "stream",
          "name": "stdout",
          "text": [
            "218\n",
            "[1, 14, 22, 16, 43, 2, 2, 2, 2, 65, 458, 2, 66, 2, 4, 173, 36, 256, 5, 25, 100, 43, 2, 112, 50, 2, 2, 9, 35, 480, 284, 5, 150, 4, 172, 112, 167, 2, 336, 385, 39, 4, 172, 2, 2, 17, 2, 38, 13, 447, 4, 192, 50, 16, 6, 147, 2, 19, 14, 22, 4, 2, 2, 469, 4, 22, 71, 87, 12, 16, 43, 2, 38, 76, 15, 13, 2, 4, 22, 17, 2, 17, 12, 16, 2, 18, 2, 5, 62, 386, 12, 8, 316, 8, 106, 5, 4, 2, 2, 16, 480, 66, 2, 33, 4, 130, 12, 16, 38, 2, 5, 25, 124, 51, 36, 135, 48, 25, 2, 33, 6, 22, 12, 215, 28, 77, 52, 5, 14, 407, 16, 82, 2, 8, 4, 107, 117, 2, 15, 256, 4, 2, 7, 2, 5, 2, 36, 71, 43, 2, 476, 26, 400, 317, 46, 7, 4, 2, 2, 13, 104, 88, 4, 381, 15, 297, 98, 32, 2, 56, 26, 141, 6, 194, 2, 18, 4, 226, 22, 21, 134, 476, 26, 480, 5, 144, 30, 2, 18, 51, 36, 28, 224, 92, 25, 104, 4, 226, 65, 16, 38, 2, 88, 12, 16, 283, 5, 16, 2, 113, 103, 32, 15, 16, 2, 19, 178, 32]\n"
          ]
        }
      ]
    },
    {
      "cell_type": "code",
      "source": [
        "print(train_target[:20]) #리뷰가 긍정인지 부정인지 판단 → 이진 분류 문제로 해석할 수 있음"
      ],
      "metadata": {
        "colab": {
          "base_uri": "https://localhost:8080/"
        },
        "id": "YUcdRwGz767M",
        "outputId": "733a5c11-30df-43ea-c435-b0e8e8c66d85"
      },
      "execution_count": 5,
      "outputs": [
        {
          "output_type": "stream",
          "name": "stdout",
          "text": [
            "[1 0 0 1 0 0 1 0 1 0 1 0 0 0 0 0 1 1 0 1]\n"
          ]
        }
      ]
    },
    {
      "cell_type": "code",
      "source": [
        "from sklearn.model_selection import train_test_split\n",
        "train_input, val_input, train_target, val_target = train_test_split(train_input, train_target, test_size=0.2, random_state = 42)"
      ],
      "metadata": {
        "id": "h_AqlNXN8BLu"
      },
      "execution_count": 6,
      "outputs": []
    },
    {
      "cell_type": "code",
      "source": [
        "import numpy as np\n",
        "lengths = np.array([len(x) for x in train_input])\n",
        "print(np.mean(lengths), np.median(lengths))"
      ],
      "metadata": {
        "colab": {
          "base_uri": "https://localhost:8080/"
        },
        "id": "1UNgO--k8dx5",
        "outputId": "17fe29f7-c9ab-409a-8d40-c19f5aa3dd77"
      },
      "execution_count": 7,
      "outputs": [
        {
          "output_type": "stream",
          "name": "stdout",
          "text": [
            "239.00925 178.0\n"
          ]
        }
      ]
    },
    {
      "cell_type": "code",
      "source": [
        "import matplotlib.pyplot as plt\n",
        "plt.hist(lengths)\n",
        "plt.xlabel('length')\n",
        "plt.ylabel('frequency')\n",
        "plt.show()"
      ],
      "metadata": {
        "colab": {
          "base_uri": "https://localhost:8080/",
          "height": 279
        },
        "id": "BaHb4Ojl8yU-",
        "outputId": "477c641e-df00-4345-f430-6644eed8b1a4"
      },
      "execution_count": 8,
      "outputs": [
        {
          "output_type": "display_data",
          "data": {
            "text/plain": [
              "<Figure size 432x288 with 1 Axes>"
            ],
            "image/png": "[encoded data removed]"
          },
          "metadata": {
            "needs_background": "light"
          }
        }
      ]
    },
    {
      "cell_type": "code",
      "source": [
        "from tensorflow.keras.preprocessing.sequence import pad_sequences\n",
        "train_seq = pad_sequences(train_input, maxlen=100) #순차 데이터의 길이를 100으로 맞춤. 100보다 크면 자르고, 작으면 0으로 패딩\n",
        "print(train_seq.shape) #샘플 개수 20000, 토큰(타임스텝) 개수 : 100"
      ],
      "metadata": {
        "colab": {
          "base_uri": "https://localhost:8080/"
        },
        "id": "J6XxwBmJ89Z3",
        "outputId": "d7e640fc-ac68-478a-f0f4-b3b398ce96fa"
      },
      "execution_count": 9,
      "outputs": [
        {
          "output_type": "stream",
          "name": "stdout",
          "text": [
            "(20000, 100)\n"
          ]
        }
      ]
    },
    {
      "cell_type": "code",
      "source": [
        "print(train_seq[0])\n",
        "print(train_seq[0][-10:]) #원본의 앞부분이 잘림\n",
        "                          #pad_sequences는 기본으로 maxlen보다 긴 시퀀스의 앞 부분을 자름. truncating을 post로 바꾸면 뒷 부분을 자름"
      ],
      "metadata": {
        "colab": {
          "base_uri": "https://localhost:8080/"
        },
        "id": "U7cELTJ79znw",
        "outputId": "2430d92b-3949-4cce-f846-ecf58aadc011"
      },
      "execution_count": 10,
      "outputs": [
        {
          "output_type": "stream",
          "name": "stdout",
          "text": [
            "[ 10   4  20   9   2 364 352   5  45   6   2   2  33 269   8   2 142   2\n",
            "   5   2  17  73  17 204   5   2  19  55   2   2  92  66 104  14  20  93\n",
            "  76   2 151  33   4  58  12 188   2 151  12 215  69 224 142  73 237   6\n",
            "   2   7   2   2 188   2 103  14  31  10  10 451   7   2   5   2  80  91\n",
            "   2  30   2  34  14  20 151  50  26 131  49   2  84  46  50  37  80  79\n",
            "   6   2  46   7  14  20  10  10 470 158]\n",
            "[  6   2  46   7  14  20  10  10 470 158]\n"
          ]
        }
      ]
    },
    {
      "cell_type": "code",
      "source": [
        "print(train_seq[5]) #패딩역시 앞 부분에 추가. padding을 post로 바꾸면 뒷 부분에 패딩추가"
      ],
      "metadata": {
        "colab": {
          "base_uri": "https://localhost:8080/"
        },
        "id": "TPuOiFms-1IA",
        "outputId": "12557ca7-8968-48d3-c650-9d3750092410"
      },
      "execution_count": 11,
      "outputs": [
        {
          "output_type": "stream",
          "name": "stdout",
          "text": [
            "[  0   0   0   0   1   2 195  19  49   2   2 190   4   2 352   2 183  10\n",
            "  10  13  82  79   4   2  36  71 269   8   2  25  19  49   7   4   2   2\n",
            "   2   2   2  10  10  48  25  40   2  11   2   2  40   2   2   5   4   2\n",
            "   2  95  14 238  56 129   2  10  10  21   2  94 364 352   2   2  11 190\n",
            "  24 484   2   7  94 205 405  10  10  87   2  34  49   2   7   2   2   2\n",
            "   2   2 290   2  46  48  64  18   4   2]\n"
          ]
        }
      ]
    },
    {
      "cell_type": "code",
      "source": [
        "val_seq = pad_sequences(val_input, maxlen = 100)"
      ],
      "metadata": {
        "id": "e4JLGxBy_TXi"
      },
      "execution_count": 12,
      "outputs": []
    },
    {
      "cell_type": "code",
      "source": [
        "from tensorflow import keras\n",
        "model = keras.Sequential()\n",
        "model.add(keras.layers.SimpleRNN(8, input_shape = (100,500)))#사용할 뉴런의 갯수 8, input_shape에는 사용할 뉴런 개수 지정, 기본 활성화 함수는 tanh, 샘플의 길이 100, 원-핫 인코딩으로 표현하려면 배열의 길이가 500(imdb.load_data에서 500개 단어를 사용하도록 지정하였음.)\n",
        "model.add(keras.layers.Dense(1, activation='sigmoid'))\n",
        "train_oh = keras.utils.to_categorical(train_seq) #to_categorical : 정수 배열을 입력하면 자동으로 원-핫 인코딩된 배열을 반환\n",
        "print(train_oh.shape)\n",
        "print(train_oh[0][0][:12]) #첫 번째 샘플의 첫 번째 토큰 10의 원-핫 인코딩\n",
        "print(np.sum(train_oh[0][0])) #나머지 원소가 모두 0인지 확인"
      ],
      "metadata": {
        "colab": {
          "base_uri": "https://localhost:8080/"
        },
        "id": "p_MqgzBM_ZoL",
        "outputId": "fb88ef8b-1bdf-473e-a083-4fdaecc67da2"
      },
      "execution_count": 13,
      "outputs": [
        {
          "output_type": "stream",
          "name": "stdout",
          "text": [
            "(20000, 100, 500)\n",
            "[0. 0. 0. 0. 0. 0. 0. 0. 0. 0. 1. 0.]\n",
            "1.0\n"
          ]
        }
      ]
    },
    {
      "cell_type": "code",
      "source": [
        "val_oh = keras.utils.to_categorical(val_seq)#500(500차원의 원-핫 인코딩 배열) * 8(순환층의 뉴런 8개) = 4000 + 8(은닉상태크기)*8(뉴런 개수)  + 8(절편)\n",
        "model.summary()"
      ],
      "metadata": {
        "colab": {
          "base_uri": "https://localhost:8080/"
        },
        "id": "RBYWxKZeBn2I",
        "outputId": "0c9daa9f-e69e-4bc9-c81c-a94909e36e53"
      },
      "execution_count": 14,
      "outputs": [
        {
          "output_type": "stream",
          "name": "stdout",
          "text": [
            "Model: \"sequential\"\n",
            "_________________________________________________________________\n",
            " Layer (type)                Output Shape              Param #   \n",
            "=================================================================\n",
            " simple_rnn (SimpleRNN)      (None, 8)                 4072      \n",
            "                                                                 \n",
            " dense (Dense)               (None, 1)                 9         \n",
            "                                                                 \n",
            "=================================================================\n",
            "Total params: 4,081\n",
            "Trainable params: 4,081\n",
            "Non-trainable params: 0\n",
            "_________________________________________________________________\n"
          ]
        }
      ]
    },
    {
      "cell_type": "code",
      "source": [
        "rmsprop = keras.optimizers.RMSprop(learning_rate = 1e-4)\n",
        "model.compile(optimizer=rmsprop, loss='binary_crossentropy', metrics=['accuracy'])\n",
        "checkpoint_cb = keras.callbacks.ModelCheckpoint('best-simplearn-model.h5',save_best_only=True)\n",
        "early_stopping_cb = keras.callbacks.EarlyStopping(patience=3, restore_best_weights=True)\n",
        "history = model.fit(train_oh,train_target, epochs=100, batch_size=64, validation_data=(val_oh, val_target), callbacks=[checkpoint_cb, early_stopping_cb])"
      ],
      "metadata": {
        "colab": {
          "base_uri": "https://localhost:8080/"
        },
        "id": "l8ClCRo-B_Re",
        "outputId": "916f7bbd-de74-4089-a3f7-abbd0f38e874"
      },
      "execution_count": 18,
      "outputs": [
        {
          "output_type": "stream",
          "name": "stdout",
          "text": [
            "Epoch 1/100\n",
            "313/313 [==============================] - 15s 42ms/step - loss: 0.6976 - accuracy: 0.5042 - val_loss: 0.6970 - val_accuracy: 0.5108\n",
            "Epoch 2/100\n",
            "313/313 [==============================] - 13s 40ms/step - loss: 0.6934 - accuracy: 0.5166 - val_loss: 0.6943 - val_accuracy: 0.5216\n",
            "Epoch 3/100\n",
            "313/313 [==============================] - 13s 41ms/step - loss: 0.6902 - accuracy: 0.5278 - val_loss: 0.6916 - val_accuracy: 0.5302\n",
            "Epoch 4/100\n",
            "313/313 [==============================] - 13s 41ms/step - loss: 0.6868 - accuracy: 0.5437 - val_loss: 0.6886 - val_accuracy: 0.5452\n",
            "Epoch 5/100\n",
            "313/313 [==============================] - 13s 40ms/step - loss: 0.6823 - accuracy: 0.5631 - val_loss: 0.6834 - val_accuracy: 0.5612\n",
            "Epoch 6/100\n",
            "313/313 [==============================] - 12s 40ms/step - loss: 0.6721 - accuracy: 0.5964 - val_loss: 0.6627 - val_accuracy: 0.6132\n",
            "Epoch 7/100\n",
            "313/313 [==============================] - 13s 43ms/step - loss: 0.6425 - accuracy: 0.6503 - val_loss: 0.6436 - val_accuracy: 0.6438\n",
            "Epoch 8/100\n",
            "313/313 [==============================] - 13s 40ms/step - loss: 0.6235 - accuracy: 0.6733 - val_loss: 0.6281 - val_accuracy: 0.6598\n",
            "Epoch 9/100\n",
            "313/313 [==============================] - 13s 41ms/step - loss: 0.6090 - accuracy: 0.6884 - val_loss: 0.6147 - val_accuracy: 0.6736\n",
            "Epoch 10/100\n",
            "313/313 [==============================] - 13s 40ms/step - loss: 0.5949 - accuracy: 0.7032 - val_loss: 0.6033 - val_accuracy: 0.6870\n",
            "Epoch 11/100\n",
            "313/313 [==============================] - 13s 40ms/step - loss: 0.5843 - accuracy: 0.7107 - val_loss: 0.5961 - val_accuracy: 0.6952\n",
            "Epoch 12/100\n",
            "313/313 [==============================] - 13s 41ms/step - loss: 0.5732 - accuracy: 0.7217 - val_loss: 0.5884 - val_accuracy: 0.7022\n",
            "Epoch 13/100\n",
            "313/313 [==============================] - 13s 41ms/step - loss: 0.5650 - accuracy: 0.7254 - val_loss: 0.5771 - val_accuracy: 0.7102\n",
            "Epoch 14/100\n",
            "313/313 [==============================] - 13s 41ms/step - loss: 0.5553 - accuracy: 0.7341 - val_loss: 0.5718 - val_accuracy: 0.7140\n",
            "Epoch 15/100\n",
            "313/313 [==============================] - 13s 40ms/step - loss: 0.5470 - accuracy: 0.7391 - val_loss: 0.5631 - val_accuracy: 0.7182\n",
            "Epoch 16/100\n",
            "313/313 [==============================] - 13s 40ms/step - loss: 0.5412 - accuracy: 0.7449 - val_loss: 0.5664 - val_accuracy: 0.7160\n",
            "Epoch 17/100\n",
            "313/313 [==============================] - 13s 41ms/step - loss: 0.5337 - accuracy: 0.7502 - val_loss: 0.5580 - val_accuracy: 0.7204\n",
            "Epoch 18/100\n",
            "313/313 [==============================] - 12s 40ms/step - loss: 0.5251 - accuracy: 0.7563 - val_loss: 0.5475 - val_accuracy: 0.7328\n",
            "Epoch 19/100\n",
            "313/313 [==============================] - 14s 43ms/step - loss: 0.5202 - accuracy: 0.7576 - val_loss: 0.5465 - val_accuracy: 0.7338\n",
            "Epoch 20/100\n",
            "313/313 [==============================] - 12s 40ms/step - loss: 0.5156 - accuracy: 0.7617 - val_loss: 0.5406 - val_accuracy: 0.7346\n",
            "Epoch 21/100\n",
            "313/313 [==============================] - 13s 40ms/step - loss: 0.5086 - accuracy: 0.7656 - val_loss: 0.5393 - val_accuracy: 0.7382\n",
            "Epoch 22/100\n",
            "313/313 [==============================] - 12s 40ms/step - loss: 0.5047 - accuracy: 0.7694 - val_loss: 0.5437 - val_accuracy: 0.7370\n",
            "Epoch 23/100\n",
            "313/313 [==============================] - 12s 40ms/step - loss: 0.4996 - accuracy: 0.7703 - val_loss: 0.5263 - val_accuracy: 0.7486\n",
            "Epoch 24/100\n",
            "313/313 [==============================] - 13s 41ms/step - loss: 0.4921 - accuracy: 0.7779 - val_loss: 0.5242 - val_accuracy: 0.7506\n",
            "Epoch 25/100\n",
            "313/313 [==============================] - 12s 39ms/step - loss: 0.4894 - accuracy: 0.7772 - val_loss: 0.5176 - val_accuracy: 0.7558\n",
            "Epoch 26/100\n",
            "313/313 [==============================] - 13s 40ms/step - loss: 0.4849 - accuracy: 0.7813 - val_loss: 0.5150 - val_accuracy: 0.7576\n",
            "Epoch 27/100\n",
            "313/313 [==============================] - 13s 40ms/step - loss: 0.4792 - accuracy: 0.7845 - val_loss: 0.5098 - val_accuracy: 0.7618\n",
            "Epoch 28/100\n",
            "313/313 [==============================] - 13s 41ms/step - loss: 0.4758 - accuracy: 0.7878 - val_loss: 0.5067 - val_accuracy: 0.7620\n",
            "Epoch 29/100\n",
            "313/313 [==============================] - 13s 41ms/step - loss: 0.4722 - accuracy: 0.7896 - val_loss: 0.5038 - val_accuracy: 0.7664\n",
            "Epoch 30/100\n",
            "313/313 [==============================] - 14s 44ms/step - loss: 0.4675 - accuracy: 0.7922 - val_loss: 0.5031 - val_accuracy: 0.7634\n",
            "Epoch 31/100\n",
            "313/313 [==============================] - 12s 40ms/step - loss: 0.4638 - accuracy: 0.7935 - val_loss: 0.5035 - val_accuracy: 0.7638\n",
            "Epoch 32/100\n",
            "313/313 [==============================] - 13s 40ms/step - loss: 0.4610 - accuracy: 0.7965 - val_loss: 0.4998 - val_accuracy: 0.7668\n",
            "Epoch 33/100\n",
            "313/313 [==============================] - 13s 40ms/step - loss: 0.4577 - accuracy: 0.7976 - val_loss: 0.4960 - val_accuracy: 0.7706\n",
            "Epoch 34/100\n",
            "313/313 [==============================] - 13s 40ms/step - loss: 0.4547 - accuracy: 0.7993 - val_loss: 0.4968 - val_accuracy: 0.7660\n",
            "Epoch 35/100\n",
            "313/313 [==============================] - 13s 40ms/step - loss: 0.4522 - accuracy: 0.8015 - val_loss: 0.4926 - val_accuracy: 0.7692\n",
            "Epoch 36/100\n",
            "313/313 [==============================] - 13s 41ms/step - loss: 0.4498 - accuracy: 0.8024 - val_loss: 0.4901 - val_accuracy: 0.7728\n",
            "Epoch 37/100\n",
            "313/313 [==============================] - 13s 41ms/step - loss: 0.4468 - accuracy: 0.8037 - val_loss: 0.4881 - val_accuracy: 0.7754\n",
            "Epoch 38/100\n",
            "313/313 [==============================] - 13s 42ms/step - loss: 0.4454 - accuracy: 0.8062 - val_loss: 0.4902 - val_accuracy: 0.7734\n",
            "Epoch 39/100\n",
            "313/313 [==============================] - 13s 41ms/step - loss: 0.4431 - accuracy: 0.8062 - val_loss: 0.4883 - val_accuracy: 0.7746\n",
            "Epoch 40/100\n",
            "313/313 [==============================] - 13s 41ms/step - loss: 0.4414 - accuracy: 0.8072 - val_loss: 0.4918 - val_accuracy: 0.7726\n"
          ]
        }
      ]
    },
    {
      "cell_type": "code",
      "source": [
        "plt.plot(history.history['loss'])\n",
        "plt.plot(history.history['val_loss'])\n",
        "plt.xlabel('epoch')\n",
        "plt.ylabel('loss')\n",
        "plt.legend(['train','val'])\n",
        "plt.show()"
      ],
      "metadata": {
        "colab": {
          "base_uri": "https://localhost:8080/",
          "height": 279
        },
        "id": "sft48qCcGcrg",
        "outputId": "d97b4e74-8a55-4122-c6a9-8ae02700a2b6"
      },
      "execution_count": 19,
      "outputs": [
        {
          "output_type": "display_data",
          "data": {
            "text/plain": [
              "<Figure size 432x288 with 1 Axes>"
            ],
            "image/png": "[encoded data removed]"
          },
          "metadata": {
            "needs_background": "light"
          }
        }
      ]
    },
    {
      "cell_type": "code",
      "source": [
        "#원-핫 인코딩의 단점 : 입력 데이터가 엄청 커짐\n",
        "print(train_seq.nbytes, train_oh.nbytes) #500차원으로 늘렸으므로 약 500배 커짐"
      ],
      "metadata": {
        "id": "rSgkVRU1GwMy",
        "colab": {
          "base_uri": "https://localhost:8080/"
        },
        "outputId": "ae707715-6050-47c5-b414-c660de4db330"
      },
      "execution_count": 20,
      "outputs": [
        {
          "output_type": "stream",
          "name": "stdout",
          "text": [
            "8000000 4000000000\n"
          ]
        }
      ]
    },
    {
      "cell_type": "code",
      "source": [
        "#단어 임베딩:각 단어를 고정된 크기의 실수 벡터로 변환, 입력을 정수 데이터로 받음\n",
        "model2 = keras.Sequential()\n",
        "model2.add(keras.layers.Embedding(500,16,input_length=100))#어휘사전의 크기 500(imdb.load_data에서 num_words를 500으로 지정했음), 임베딩 벡터의 크기:16, 입력 시퀀스의 길이 100\n",
        "model2.add(keras.layers.SimpleRNN(8))\n",
        "model2.add(keras.layers.Dense(1,activation='sigmoid'))\n",
        "model2.summary() #입력으로 (100,)크기를 받고 (100,16)크기의 출력을 만듦\n",
        "                #500개의 토큰 * 벡터의 크기 16 = 8000\n",
        "                #SimpleRNN층 : 임베딩 벡터의 크기 16 * 8개의 뉴런 = 128, 은닉 상태에 곱해지는 가중치 8 * 8 = 64, 절편 8  = 200\n",
        "                #Dense층 : 가중치 개수 9"
      ],
      "metadata": {
        "id": "fbyZikHsG55L",
        "colab": {
          "base_uri": "https://localhost:8080/"
        },
        "outputId": "0084f2ea-f378-494f-cfa5-fea707ab1e9d"
      },
      "execution_count": 22,
      "outputs": [
        {
          "output_type": "stream",
          "name": "stdout",
          "text": [
            "Model: \"sequential_2\"\n",
            "_________________________________________________________________\n",
            " Layer (type)                Output Shape              Param #   \n",
            "=================================================================\n",
            " embedding_1 (Embedding)     (None, 100, 16)           8000      \n",
            "                                                                 \n",
            " simple_rnn_1 (SimpleRNN)    (None, 8)                 200       \n",
            "                                                                 \n",
            " dense_1 (Dense)             (None, 1)                 9         \n",
            "                                                                 \n",
            "=================================================================\n",
            "Total params: 8,209\n",
            "Trainable params: 8,209\n",
            "Non-trainable params: 0\n",
            "_________________________________________________________________\n"
          ]
        }
      ]
    },
    {
      "cell_type": "code",
      "source": [
        "rmsprop = keras.optimizers.RMSprop(learning_rate = 1e-4)\n",
        "model2.compile(optimizer=rmsprop, loss='binary_crossentropy', metrics=['accuracy'])\n",
        "checkpoint_cb = keras.callbacks.ModelCheckpoint('best-embedding-model.h5',save_best_only=True)\n",
        "early_stopping_cb = keras.callbacks.EarlyStopping(patience=3, restore_best_weights=True)\n",
        "history = model2.fit(train_seq,train_target, epochs=100, batch_size=64, validation_data=(val_seq, val_target), callbacks=[checkpoint_cb, early_stopping_cb])"
      ],
      "metadata": {
        "id": "vPFVKbftIOzP",
        "colab": {
          "base_uri": "https://localhost:8080/"
        },
        "outputId": "3b998d9d-703d-42f9-9d40-09a954432a54"
      },
      "execution_count": 25,
      "outputs": [
        {
          "output_type": "stream",
          "name": "stdout",
          "text": [
            "Epoch 1/100\n",
            "313/313 [==============================] - 9s 24ms/step - loss: 0.6954 - accuracy: 0.5016 - val_loss: 0.6928 - val_accuracy: 0.5102\n",
            "Epoch 2/100\n",
            "313/313 [==============================] - 7s 24ms/step - loss: 0.6903 - accuracy: 0.5334 - val_loss: 0.6904 - val_accuracy: 0.5326\n",
            "Epoch 3/100\n",
            "313/313 [==============================] - 7s 24ms/step - loss: 0.6867 - accuracy: 0.5603 - val_loss: 0.6879 - val_accuracy: 0.5456\n",
            "Epoch 4/100\n",
            "313/313 [==============================] - 7s 23ms/step - loss: 0.6825 - accuracy: 0.5785 - val_loss: 0.6853 - val_accuracy: 0.5544\n",
            "Epoch 5/100\n",
            "313/313 [==============================] - 7s 23ms/step - loss: 0.6758 - accuracy: 0.5961 - val_loss: 0.6735 - val_accuracy: 0.6064\n",
            "Epoch 6/100\n",
            "313/313 [==============================] - 7s 23ms/step - loss: 0.6455 - accuracy: 0.6754 - val_loss: 0.6356 - val_accuracy: 0.6884\n",
            "Epoch 7/100\n",
            "313/313 [==============================] - 7s 23ms/step - loss: 0.6092 - accuracy: 0.7218 - val_loss: 0.6002 - val_accuracy: 0.7272\n",
            "Epoch 8/100\n",
            "313/313 [==============================] - 7s 24ms/step - loss: 0.5782 - accuracy: 0.7469 - val_loss: 0.5732 - val_accuracy: 0.7464\n",
            "Epoch 9/100\n",
            "313/313 [==============================] - 7s 23ms/step - loss: 0.5519 - accuracy: 0.7606 - val_loss: 0.5522 - val_accuracy: 0.7528\n",
            "Epoch 10/100\n",
            "313/313 [==============================] - 7s 23ms/step - loss: 0.5312 - accuracy: 0.7711 - val_loss: 0.5337 - val_accuracy: 0.7610\n",
            "Epoch 11/100\n",
            "313/313 [==============================] - 7s 23ms/step - loss: 0.5135 - accuracy: 0.7786 - val_loss: 0.5262 - val_accuracy: 0.7624\n",
            "Epoch 12/100\n",
            "313/313 [==============================] - 7s 23ms/step - loss: 0.4982 - accuracy: 0.7851 - val_loss: 0.5106 - val_accuracy: 0.7698\n",
            "Epoch 13/100\n",
            "313/313 [==============================] - 8s 25ms/step - loss: 0.4847 - accuracy: 0.7893 - val_loss: 0.4984 - val_accuracy: 0.7732\n",
            "Epoch 14/100\n",
            "313/313 [==============================] - 8s 25ms/step - loss: 0.4748 - accuracy: 0.7925 - val_loss: 0.4915 - val_accuracy: 0.7762\n",
            "Epoch 15/100\n",
            "313/313 [==============================] - 7s 23ms/step - loss: 0.4652 - accuracy: 0.7970 - val_loss: 0.4859 - val_accuracy: 0.7748\n",
            "Epoch 16/100\n",
            "313/313 [==============================] - 8s 27ms/step - loss: 0.4577 - accuracy: 0.8005 - val_loss: 0.4820 - val_accuracy: 0.7776\n",
            "Epoch 17/100\n",
            "313/313 [==============================] - 7s 23ms/step - loss: 0.4511 - accuracy: 0.8032 - val_loss: 0.4776 - val_accuracy: 0.7778\n",
            "Epoch 18/100\n",
            "313/313 [==============================] - 7s 23ms/step - loss: 0.4458 - accuracy: 0.8050 - val_loss: 0.4759 - val_accuracy: 0.7796\n",
            "Epoch 19/100\n",
            "313/313 [==============================] - 7s 23ms/step - loss: 0.4403 - accuracy: 0.8084 - val_loss: 0.4698 - val_accuracy: 0.7824\n",
            "Epoch 20/100\n",
            "313/313 [==============================] - 7s 23ms/step - loss: 0.4354 - accuracy: 0.8097 - val_loss: 0.4692 - val_accuracy: 0.7820\n",
            "Epoch 21/100\n",
            "313/313 [==============================] - 7s 23ms/step - loss: 0.4311 - accuracy: 0.8123 - val_loss: 0.4655 - val_accuracy: 0.7834\n",
            "Epoch 22/100\n",
            "313/313 [==============================] - 7s 23ms/step - loss: 0.4276 - accuracy: 0.8151 - val_loss: 0.4658 - val_accuracy: 0.7852\n",
            "Epoch 23/100\n",
            "313/313 [==============================] - 7s 23ms/step - loss: 0.4232 - accuracy: 0.8163 - val_loss: 0.4626 - val_accuracy: 0.7866\n",
            "Epoch 24/100\n",
            "313/313 [==============================] - 7s 23ms/step - loss: 0.4198 - accuracy: 0.8172 - val_loss: 0.4659 - val_accuracy: 0.7866\n",
            "Epoch 25/100\n",
            "313/313 [==============================] - 7s 22ms/step - loss: 0.4172 - accuracy: 0.8190 - val_loss: 0.4710 - val_accuracy: 0.7810\n",
            "Epoch 26/100\n",
            "313/313 [==============================] - 7s 23ms/step - loss: 0.4143 - accuracy: 0.8202 - val_loss: 0.4617 - val_accuracy: 0.7824\n",
            "Epoch 27/100\n",
            "313/313 [==============================] - 7s 22ms/step - loss: 0.4112 - accuracy: 0.8226 - val_loss: 0.4682 - val_accuracy: 0.7808\n",
            "Epoch 28/100\n",
            "313/313 [==============================] - 7s 23ms/step - loss: 0.4092 - accuracy: 0.8227 - val_loss: 0.4627 - val_accuracy: 0.7814\n",
            "Epoch 29/100\n",
            "313/313 [==============================] - 7s 23ms/step - loss: 0.4068 - accuracy: 0.8234 - val_loss: 0.4647 - val_accuracy: 0.7816\n"
          ]
        }
      ]
    },
    {
      "cell_type": "code",
      "source": [
        "plt.plot(history.history['loss'])\n",
        "plt.plot(history.history['val_loss'])\n",
        "plt.xlabel('epoch')\n",
        "plt.ylabel('loss')\n",
        "plt.legend(['train','val'])\n",
        "plt.show()"
      ],
      "metadata": {
        "colab": {
          "base_uri": "https://localhost:8080/",
          "height": 279
        },
        "id": "qyMKam-3LhSu",
        "outputId": "735f451a-a896-4e9f-f506-d012c5391d70"
      },
      "execution_count": 26,
      "outputs": [
        {
          "output_type": "display_data",
          "data": {
            "text/plain": [
              "<Figure size 432x288 with 1 Axes>"
            ],
            "image/png": "[encoded data removed]"
          },
          "metadata": {
            "needs_background": "light"
          }
        }
      ]
    }
  ]
}