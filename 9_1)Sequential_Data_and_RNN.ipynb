{
  "nbformat": 4,
  "nbformat_minor": 0,
  "metadata": {
    "colab": {
      "name": "9-1)Sequential Data and RNN.ipynb",
      "provenance": [],
      "collapsed_sections": [],
      "authorship_tag": "ABX9TyMFqcxui2finZ9zN65H46ue",
      "include_colab_link": true
    },
    "kernelspec": {
      "name": "python3",
      "display_name": "Python 3"
    },
    "language_info": {
      "name": "python"
    }
  },
  "cells": [
    {
      "cell_type": "markdown",
      "metadata": {
        "id": "view-in-github",
        "colab_type": "text"
      },
      "source": [
        "<a href=\"https://colab.research.google.com/github/Dohy-Lee/ML_DL.Basic/blob/main/9_1)Sequential_Data_and_RNN.ipynb\" target=\"_parent\"><img src=\"https://colab.research.google.com/assets/colab-badge.svg\" alt=\"Open In Colab\"/></a>"
      ]
    },
    {
      "cell_type": "code",
      "execution_count": null,
      "metadata": {
        "id": "ER_4gpZ2vI8w"
      },
      "outputs": [],
      "source": [
        "#순차 데이터 : 텍스트나 시계열 데이터와 같이 순서에 의미가 있는 데이터\n",
        "#피드포워드 신경망 : 입력 데이터의 흐름이 앞으로만 전달되는 신경망\n",
        "#순환신경망(RNN) : 다음 샘플을 위해서 이전 데이터가 신경망 층에 순환, 활성화 함수로는 주로 tanh 사용\n",
        "#타임스텝 : 순환 신경망에서 샘픙르 처리하는 한 단계\n",
        "#순환신경망에서의 층을 셀, 셀의 출력을 은닉상태라고 부름"
      ]
    }
  ]
}