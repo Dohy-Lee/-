{
  "nbformat": 4,
  "nbformat_minor": 0,
  "metadata": {
    "colab": {
      "name": "9-3)LSTM and GRU Cell.ipynb",
      "provenance": [],
      "collapsed_sections": [],
      "authorship_tag": "ABX9TyMxqR3HRkVFS8jmcIgxlmzj",
      "include_colab_link": true
    },
    "kernelspec": {
      "name": "python3",
      "display_name": "Python 3"
    },
    "language_info": {
      "name": "python"
    }
  },
  "cells": [
    {
      "cell_type": "markdown",
      "metadata": {
        "id": "view-in-github",
        "colab_type": "text"
      },
      "source": [
        "<a href=\"https://colab.research.google.com/github/Dohy-Lee/ML_DL.Basic/blob/main/9_3)LSTM_and_GRU_Cell.ipynb\" target=\"_parent\"><img src=\"https://colab.research.google.com/assets/colab-badge.svg\" alt=\"Open In Colab\"/></a>"
      ]
    },
    {
      "cell_type": "code",
      "execution_count": null,
      "metadata": {
        "id": "QwzDPgeOFZEE"
      },
      "outputs": [],
      "source": [
        "#LSTM에는 순환되는 상태가 2가지임. 1. 은닉상태 2. 셀 상태\n",
        "#셀 상태는 다음 층으로 전달되지 않고, LSTM에서 순환만 되는 값\n",
        "#삭제 게이트, 입력 게이트, 출력 게이트로 이루어져있음\n",
        "#삭제 게이트:셀 상태에 있는 정보를 제거하는 역할\n",
        "#입력 게이트:새로운 정보를 셀 상태에 추가\n",
        "#출력 게이트:셀 상태를 다음 은닉 상태로 출력"
      ]
    },
    {
      "cell_type": "code",
      "source": [
        "from tensorflow.keras.datasets import imdb\n",
        "from sklearn.model_selection import train_test_split\n",
        "(train_input, train_target), (test_input, test_target) = imdb.load_data(num_words=500)\n",
        "train_input,val_input,train_target,val_target = train_test_split(train_input, train_target, test_size=0.2, random_state=42)"
      ],
      "metadata": {
        "id": "hKDu5mhWNOns"
      },
      "execution_count": null,
      "outputs": []
    },
    {
      "cell_type": "code",
      "source": [
        "from tensorflow.keras.preprocessing.sequence import pad_sequences\n",
        "from tensorflow import keras\n",
        "train_seq = pad_sequences(train_input, maxlen=100)\n",
        "val_seq = pad_sequences(val_input, maxlen=100)\n",
        "model=keras.Sequential()\n",
        "model.add(keras.layers.Embedding(500,16,input_length=100))\n",
        "model.add(keras.layers.LSTM(8))\n",
        "model.add(keras.layers.Dense(1,activation='sigmoid'))\n",
        "model.summary()"
      ],
      "metadata": {
        "colab": {
          "base_uri": "https://localhost:8080/"
        },
        "id": "1K6nbEb1NvjJ",
        "outputId": "d9c02cfa-925d-481a-a7d5-ed15c4cce4a4"
      },
      "execution_count": null,
      "outputs": [
        {
          "output_type": "stream",
          "name": "stdout",
          "text": [
            "Model: \"sequential_4\"\n",
            "_________________________________________________________________\n",
            " Layer (type)                Output Shape              Param #   \n",
            "=================================================================\n",
            " embedding_4 (Embedding)     (None, 100, 16)           8000      \n",
            "                                                                 \n",
            " lstm_4 (LSTM)               (None, 8)                 800       \n",
            "                                                                 \n",
            " dense_3 (Dense)             (None, 1)                 9         \n",
            "                                                                 \n",
            "=================================================================\n",
            "Total params: 8,809\n",
            "Trainable params: 8,809\n",
            "Non-trainable params: 0\n",
            "_________________________________________________________________\n"
          ]
        }
      ]
    },
    {
      "cell_type": "code",
      "source": [
        "rmsprop=keras.optimizers.RMSprop(learning_rate=1e-4)\n",
        "model.compile(optimizer=rmsprop, loss='binary_crossentropy', metrics=['accuracy'])\n",
        "checkpoint_cb=keras.callbacks.ModelCheckpoint('best-lstm-model.h5',save_best_only=True)\n",
        "early_stopping_cb = keras.callbacks.EarlyStopping(patience=3,restore_best_weights=True)\n",
        "history = model.fit(train_seq,train_target,epochs=100,batch_size=64,validation_data=(val_seq,val_target),callbacks=[checkpoint_cb,early_stopping_cb])"
      ],
      "metadata": {
        "colab": {
          "base_uri": "https://localhost:8080/"
        },
        "id": "jZ5N_EJROWzE",
        "outputId": "4c58d713-d0e0-4c2b-eb2d-8bf49bae4ee8"
      },
      "execution_count": null,
      "outputs": [
        {
          "output_type": "stream",
          "name": "stdout",
          "text": [
            "Epoch 1/100\n",
            "313/313 [==============================] - 19s 47ms/step - loss: 0.6925 - accuracy: 0.5312 - val_loss: 0.6918 - val_accuracy: 0.5732\n",
            "Epoch 2/100\n",
            "313/313 [==============================] - 13s 41ms/step - loss: 0.6902 - accuracy: 0.6047 - val_loss: 0.6889 - val_accuracy: 0.6122\n",
            "Epoch 3/100\n",
            "313/313 [==============================] - 13s 42ms/step - loss: 0.6852 - accuracy: 0.6421 - val_loss: 0.6818 - val_accuracy: 0.6408\n",
            "Epoch 4/100\n",
            "313/313 [==============================] - 13s 41ms/step - loss: 0.6679 - accuracy: 0.6423 - val_loss: 0.6483 - val_accuracy: 0.6526\n",
            "Epoch 5/100\n",
            "313/313 [==============================] - 13s 41ms/step - loss: 0.6141 - accuracy: 0.7072 - val_loss: 0.5987 - val_accuracy: 0.7328\n",
            "Epoch 6/100\n",
            "313/313 [==============================] - 13s 42ms/step - loss: 0.5838 - accuracy: 0.7451 - val_loss: 0.5790 - val_accuracy: 0.7502\n",
            "Epoch 7/100\n",
            "313/313 [==============================] - 15s 47ms/step - loss: 0.5656 - accuracy: 0.7581 - val_loss: 0.5638 - val_accuracy: 0.7526\n",
            "Epoch 8/100\n",
            "313/313 [==============================] - 14s 43ms/step - loss: 0.5481 - accuracy: 0.7678 - val_loss: 0.5473 - val_accuracy: 0.7654\n",
            "Epoch 9/100\n",
            "313/313 [==============================] - 14s 44ms/step - loss: 0.5328 - accuracy: 0.7739 - val_loss: 0.5333 - val_accuracy: 0.7638\n",
            "Epoch 10/100\n",
            "313/313 [==============================] - 13s 43ms/step - loss: 0.5168 - accuracy: 0.7814 - val_loss: 0.5272 - val_accuracy: 0.7724\n",
            "Epoch 11/100\n",
            "313/313 [==============================] - 14s 44ms/step - loss: 0.5019 - accuracy: 0.7853 - val_loss: 0.5044 - val_accuracy: 0.7804\n",
            "Epoch 12/100\n",
            "313/313 [==============================] - 14s 44ms/step - loss: 0.4884 - accuracy: 0.7891 - val_loss: 0.4925 - val_accuracy: 0.7818\n",
            "Epoch 13/100\n",
            "313/313 [==============================] - 14s 44ms/step - loss: 0.4773 - accuracy: 0.7926 - val_loss: 0.4833 - val_accuracy: 0.7864\n",
            "Epoch 14/100\n",
            "313/313 [==============================] - 14s 44ms/step - loss: 0.4682 - accuracy: 0.7942 - val_loss: 0.4768 - val_accuracy: 0.7894\n",
            "Epoch 15/100\n",
            "313/313 [==============================] - 14s 45ms/step - loss: 0.4614 - accuracy: 0.7981 - val_loss: 0.4731 - val_accuracy: 0.7840\n",
            "Epoch 16/100\n",
            "313/313 [==============================] - 14s 43ms/step - loss: 0.4555 - accuracy: 0.7994 - val_loss: 0.4687 - val_accuracy: 0.7870\n",
            "Epoch 17/100\n",
            "313/313 [==============================] - 13s 42ms/step - loss: 0.4504 - accuracy: 0.8013 - val_loss: 0.4665 - val_accuracy: 0.7900\n",
            "Epoch 18/100\n",
            "313/313 [==============================] - 13s 42ms/step - loss: 0.4455 - accuracy: 0.8041 - val_loss: 0.4611 - val_accuracy: 0.7902\n",
            "Epoch 19/100\n",
            "313/313 [==============================] - 14s 45ms/step - loss: 0.4412 - accuracy: 0.8068 - val_loss: 0.4586 - val_accuracy: 0.7892\n",
            "Epoch 20/100\n",
            "313/313 [==============================] - 13s 43ms/step - loss: 0.4375 - accuracy: 0.8088 - val_loss: 0.4584 - val_accuracy: 0.7934\n",
            "Epoch 21/100\n",
            "313/313 [==============================] - 13s 43ms/step - loss: 0.4341 - accuracy: 0.8091 - val_loss: 0.4564 - val_accuracy: 0.7888\n",
            "Epoch 22/100\n",
            "313/313 [==============================] - 13s 43ms/step - loss: 0.4311 - accuracy: 0.8104 - val_loss: 0.4634 - val_accuracy: 0.7810\n",
            "Epoch 23/100\n",
            "313/313 [==============================] - 14s 45ms/step - loss: 0.4285 - accuracy: 0.8112 - val_loss: 0.4507 - val_accuracy: 0.7942\n",
            "Epoch 24/100\n",
            "313/313 [==============================] - 14s 45ms/step - loss: 0.4256 - accuracy: 0.8121 - val_loss: 0.4470 - val_accuracy: 0.7958\n",
            "Epoch 25/100\n",
            "313/313 [==============================] - 14s 45ms/step - loss: 0.4228 - accuracy: 0.8127 - val_loss: 0.4444 - val_accuracy: 0.7976\n",
            "Epoch 26/100\n",
            "313/313 [==============================] - 14s 45ms/step - loss: 0.4206 - accuracy: 0.8141 - val_loss: 0.4424 - val_accuracy: 0.7982\n",
            "Epoch 27/100\n",
            "313/313 [==============================] - 14s 44ms/step - loss: 0.4187 - accuracy: 0.8159 - val_loss: 0.4447 - val_accuracy: 0.7936\n",
            "Epoch 28/100\n",
            "313/313 [==============================] - 13s 43ms/step - loss: 0.4167 - accuracy: 0.8156 - val_loss: 0.4403 - val_accuracy: 0.7958\n",
            "Epoch 29/100\n",
            "313/313 [==============================] - 14s 44ms/step - loss: 0.4149 - accuracy: 0.8167 - val_loss: 0.4378 - val_accuracy: 0.7990\n",
            "Epoch 30/100\n",
            "313/313 [==============================] - 14s 45ms/step - loss: 0.4135 - accuracy: 0.8160 - val_loss: 0.4374 - val_accuracy: 0.8008\n",
            "Epoch 31/100\n",
            "313/313 [==============================] - 14s 43ms/step - loss: 0.4119 - accuracy: 0.8183 - val_loss: 0.4408 - val_accuracy: 0.7956\n",
            "Epoch 32/100\n",
            "313/313 [==============================] - 13s 43ms/step - loss: 0.4104 - accuracy: 0.8191 - val_loss: 0.4347 - val_accuracy: 0.7986\n",
            "Epoch 33/100\n",
            "313/313 [==============================] - 14s 44ms/step - loss: 0.4091 - accuracy: 0.8180 - val_loss: 0.4335 - val_accuracy: 0.8012\n",
            "Epoch 34/100\n",
            "313/313 [==============================] - 14s 44ms/step - loss: 0.4079 - accuracy: 0.8194 - val_loss: 0.4369 - val_accuracy: 0.7978\n",
            "Epoch 35/100\n",
            "313/313 [==============================] - 14s 45ms/step - loss: 0.4069 - accuracy: 0.8202 - val_loss: 0.4370 - val_accuracy: 0.8032\n",
            "Epoch 36/100\n",
            "313/313 [==============================] - 14s 44ms/step - loss: 0.4055 - accuracy: 0.8201 - val_loss: 0.4337 - val_accuracy: 0.8012\n"
          ]
        }
      ]
    },
    {
      "cell_type": "code",
      "source": [
        "import matplotlib.pyplot as plt\n",
        "plt.plot(history.history['loss'])\n",
        "plt.plot(history.history['val_loss'])\n",
        "plt.xlabel('epoch')\n",
        "plt.ylabel('loss')\n",
        "plt.legend(['train','val'])\n",
        "plt.show()"
      ],
      "metadata": {
        "colab": {
          "base_uri": "https://localhost:8080/",
          "height": 279
        },
        "id": "98aSK5J7PGMX",
        "outputId": "93ad038e-1094-470d-a215-92202f4b8263"
      },
      "execution_count": null,
      "outputs": [
        {
          "output_type": "display_data",
          "data": {
            "text/plain": [
              "<Figure size 432x288 with 1 Axes>"
            ],
            "image/png": "[encoded data removed]"
          },
          "metadata": {
            "needs_background": "light"
          }
        }
      ]
    },
    {
      "cell_type": "code",
      "source": [
        "model2=keras.Sequential()\n",
        "model2.add(keras.layers.Embedding(500,16,input_length=100))\n",
        "model2.add(keras.layers.LSTM(8,dropout=0.3))#SimpleRNN과 LSTM 모두 dropout 매개변수와 recurrent_dropout 매개변수를 가지고 있음\n",
        "                                            #dropout 매개변수:셀의 입력에 드롭아웃 적용, recurrent_dropout 매개변수:순환되는 은닉 상태에 드롭아웃을 적용. 그러나 기술적인 문제로 recurrent_dropout사용시 GPU를 사용하여 모델을 훈련할 수 없음. 따라서 훈련 속도가 크게 저하됨\n",
        "model2.add(keras.layers.Dense(1,activation='sigmoid'))\n",
        "rmsprop=keras.optimizers.RMSprop(learning_rate=1e-4)\n",
        "model2.compile(optimizer=rmsprop, loss='binary_crossentropy', metrics=['accuracy'])\n",
        "checkpoint_cb=keras.callbacks.ModelCheckpoint('best-dropout-model.h5',save_best_only=True)\n",
        "early_stopping_cb = keras.callbacks.EarlyStopping(patience=3,restore_best_weights=True)\n",
        "history = model2.fit(train_seq,train_target,epochs=100,batch_size=64,validation_data=(val_seq,val_target),callbacks=[checkpoint_cb,early_stopping_cb])"
      ],
      "metadata": {
        "colab": {
          "base_uri": "https://localhost:8080/"
        },
        "id": "Zb-4dzSEQNg_",
        "outputId": "9a844412-8722-45ea-d7bb-daaa3dcbdf93"
      },
      "execution_count": null,
      "outputs": [
        {
          "output_type": "stream",
          "name": "stdout",
          "text": [
            "Epoch 1/100\n",
            "313/313 [==============================] - 17s 47ms/step - loss: 0.6926 - accuracy: 0.5369 - val_loss: 0.6921 - val_accuracy: 0.5780\n",
            "Epoch 2/100\n",
            "313/313 [==============================] - 14s 44ms/step - loss: 0.6908 - accuracy: 0.5975 - val_loss: 0.6896 - val_accuracy: 0.6094\n",
            "Epoch 3/100\n",
            "313/313 [==============================] - 14s 45ms/step - loss: 0.6850 - accuracy: 0.6090 - val_loss: 0.6783 - val_accuracy: 0.5666\n",
            "Epoch 4/100\n",
            "313/313 [==============================] - 14s 46ms/step - loss: 0.6436 - accuracy: 0.6262 - val_loss: 0.6220 - val_accuracy: 0.7072\n",
            "Epoch 5/100\n",
            "313/313 [==============================] - 15s 46ms/step - loss: 0.6056 - accuracy: 0.7333 - val_loss: 0.6002 - val_accuracy: 0.7470\n",
            "Epoch 6/100\n",
            "313/313 [==============================] - 14s 45ms/step - loss: 0.5893 - accuracy: 0.7534 - val_loss: 0.5861 - val_accuracy: 0.7554\n",
            "Epoch 7/100\n",
            "313/313 [==============================] - 14s 44ms/step - loss: 0.5765 - accuracy: 0.7556 - val_loss: 0.5750 - val_accuracy: 0.7664\n",
            "Epoch 8/100\n",
            "313/313 [==============================] - 14s 45ms/step - loss: 0.5634 - accuracy: 0.7639 - val_loss: 0.5643 - val_accuracy: 0.7576\n",
            "Epoch 9/100\n",
            "313/313 [==============================] - 14s 45ms/step - loss: 0.5542 - accuracy: 0.7661 - val_loss: 0.5515 - val_accuracy: 0.7726\n",
            "Epoch 10/100\n",
            "313/313 [==============================] - 14s 45ms/step - loss: 0.5455 - accuracy: 0.7682 - val_loss: 0.5418 - val_accuracy: 0.7744\n",
            "Epoch 11/100\n",
            "313/313 [==============================] - 15s 47ms/step - loss: 0.5333 - accuracy: 0.7735 - val_loss: 0.5316 - val_accuracy: 0.7766\n",
            "Epoch 12/100\n",
            "313/313 [==============================] - 14s 46ms/step - loss: 0.5205 - accuracy: 0.7829 - val_loss: 0.5263 - val_accuracy: 0.7792\n",
            "Epoch 13/100\n",
            "313/313 [==============================] - 15s 48ms/step - loss: 0.5126 - accuracy: 0.7793 - val_loss: 0.5115 - val_accuracy: 0.7792\n",
            "Epoch 14/100\n",
            "313/313 [==============================] - 15s 48ms/step - loss: 0.5024 - accuracy: 0.7825 - val_loss: 0.5028 - val_accuracy: 0.7812\n",
            "Epoch 15/100\n",
            "313/313 [==============================] - 15s 48ms/step - loss: 0.4941 - accuracy: 0.7835 - val_loss: 0.4933 - val_accuracy: 0.7816\n",
            "Epoch 16/100\n",
            "313/313 [==============================] - 15s 48ms/step - loss: 0.4843 - accuracy: 0.7879 - val_loss: 0.4856 - val_accuracy: 0.7854\n",
            "Epoch 17/100\n",
            "313/313 [==============================] - 14s 45ms/step - loss: 0.4758 - accuracy: 0.7921 - val_loss: 0.4793 - val_accuracy: 0.7886\n",
            "Epoch 18/100\n",
            "313/313 [==============================] - 15s 47ms/step - loss: 0.4700 - accuracy: 0.7923 - val_loss: 0.4766 - val_accuracy: 0.7868\n",
            "Epoch 19/100\n",
            "313/313 [==============================] - 15s 47ms/step - loss: 0.4648 - accuracy: 0.7924 - val_loss: 0.4670 - val_accuracy: 0.7908\n",
            "Epoch 20/100\n",
            "313/313 [==============================] - 14s 46ms/step - loss: 0.4585 - accuracy: 0.7964 - val_loss: 0.4635 - val_accuracy: 0.7880\n",
            "Epoch 21/100\n",
            "313/313 [==============================] - 15s 48ms/step - loss: 0.4532 - accuracy: 0.7988 - val_loss: 0.4619 - val_accuracy: 0.7866\n",
            "Epoch 22/100\n",
            "313/313 [==============================] - 14s 46ms/step - loss: 0.4484 - accuracy: 0.7981 - val_loss: 0.4566 - val_accuracy: 0.7878\n",
            "Epoch 23/100\n",
            "313/313 [==============================] - 14s 46ms/step - loss: 0.4434 - accuracy: 0.8012 - val_loss: 0.4516 - val_accuracy: 0.7914\n",
            "Epoch 24/100\n",
            "313/313 [==============================] - 14s 46ms/step - loss: 0.4409 - accuracy: 0.8036 - val_loss: 0.4481 - val_accuracy: 0.7946\n",
            "Epoch 25/100\n",
            "313/313 [==============================] - 14s 45ms/step - loss: 0.4382 - accuracy: 0.8026 - val_loss: 0.4461 - val_accuracy: 0.7958\n",
            "Epoch 26/100\n",
            "313/313 [==============================] - 14s 45ms/step - loss: 0.4362 - accuracy: 0.8034 - val_loss: 0.4435 - val_accuracy: 0.7982\n",
            "Epoch 27/100\n",
            "313/313 [==============================] - 14s 46ms/step - loss: 0.4348 - accuracy: 0.8035 - val_loss: 0.4419 - val_accuracy: 0.7988\n",
            "Epoch 28/100\n",
            "313/313 [==============================] - 14s 46ms/step - loss: 0.4315 - accuracy: 0.8073 - val_loss: 0.4436 - val_accuracy: 0.7970\n",
            "Epoch 29/100\n",
            "313/313 [==============================] - 14s 46ms/step - loss: 0.4287 - accuracy: 0.8059 - val_loss: 0.4387 - val_accuracy: 0.7980\n",
            "Epoch 30/100\n",
            "313/313 [==============================] - 14s 46ms/step - loss: 0.4284 - accuracy: 0.8067 - val_loss: 0.4392 - val_accuracy: 0.8012\n",
            "Epoch 31/100\n",
            "313/313 [==============================] - 14s 46ms/step - loss: 0.4266 - accuracy: 0.8074 - val_loss: 0.4378 - val_accuracy: 0.8016\n",
            "Epoch 32/100\n",
            "313/313 [==============================] - 14s 46ms/step - loss: 0.4261 - accuracy: 0.8088 - val_loss: 0.4364 - val_accuracy: 0.7976\n",
            "Epoch 33/100\n",
            "313/313 [==============================] - 15s 47ms/step - loss: 0.4240 - accuracy: 0.8082 - val_loss: 0.4347 - val_accuracy: 0.8000\n",
            "Epoch 34/100\n",
            "313/313 [==============================] - 14s 45ms/step - loss: 0.4229 - accuracy: 0.8109 - val_loss: 0.4343 - val_accuracy: 0.8016\n",
            "Epoch 35/100\n",
            "313/313 [==============================] - 14s 46ms/step - loss: 0.4205 - accuracy: 0.8085 - val_loss: 0.4346 - val_accuracy: 0.7996\n",
            "Epoch 36/100\n",
            "313/313 [==============================] - 15s 47ms/step - loss: 0.4202 - accuracy: 0.8115 - val_loss: 0.4330 - val_accuracy: 0.7996\n",
            "Epoch 37/100\n",
            "313/313 [==============================] - 15s 47ms/step - loss: 0.4193 - accuracy: 0.8112 - val_loss: 0.4322 - val_accuracy: 0.8032\n",
            "Epoch 38/100\n",
            "313/313 [==============================] - 14s 46ms/step - loss: 0.4182 - accuracy: 0.8099 - val_loss: 0.4324 - val_accuracy: 0.8038\n",
            "Epoch 39/100\n",
            "313/313 [==============================] - 14s 45ms/step - loss: 0.4192 - accuracy: 0.8101 - val_loss: 0.4325 - val_accuracy: 0.8054\n",
            "Epoch 40/100\n",
            "313/313 [==============================] - 14s 45ms/step - loss: 0.4175 - accuracy: 0.8120 - val_loss: 0.4321 - val_accuracy: 0.8050\n",
            "Epoch 41/100\n",
            "313/313 [==============================] - 14s 44ms/step - loss: 0.4166 - accuracy: 0.8127 - val_loss: 0.4308 - val_accuracy: 0.8044\n",
            "Epoch 42/100\n",
            "313/313 [==============================] - 14s 44ms/step - loss: 0.4169 - accuracy: 0.8105 - val_loss: 0.4313 - val_accuracy: 0.7986\n",
            "Epoch 43/100\n",
            "313/313 [==============================] - 14s 45ms/step - loss: 0.4155 - accuracy: 0.8113 - val_loss: 0.4299 - val_accuracy: 0.8036\n",
            "Epoch 44/100\n",
            "313/313 [==============================] - 14s 44ms/step - loss: 0.4161 - accuracy: 0.8113 - val_loss: 0.4301 - val_accuracy: 0.8074\n",
            "Epoch 45/100\n",
            "313/313 [==============================] - 14s 45ms/step - loss: 0.4132 - accuracy: 0.8118 - val_loss: 0.4294 - val_accuracy: 0.8042\n",
            "Epoch 46/100\n",
            "313/313 [==============================] - 14s 45ms/step - loss: 0.4159 - accuracy: 0.8109 - val_loss: 0.4349 - val_accuracy: 0.7998\n",
            "Epoch 47/100\n",
            "313/313 [==============================] - 14s 44ms/step - loss: 0.4131 - accuracy: 0.8122 - val_loss: 0.4282 - val_accuracy: 0.8054\n",
            "Epoch 48/100\n",
            "313/313 [==============================] - 14s 44ms/step - loss: 0.4124 - accuracy: 0.8127 - val_loss: 0.4298 - val_accuracy: 0.8060\n",
            "Epoch 49/100\n",
            "313/313 [==============================] - 14s 45ms/step - loss: 0.4125 - accuracy: 0.8123 - val_loss: 0.4286 - val_accuracy: 0.8004\n",
            "Epoch 50/100\n",
            "313/313 [==============================] - 14s 45ms/step - loss: 0.4132 - accuracy: 0.8105 - val_loss: 0.4275 - val_accuracy: 0.8070\n",
            "Epoch 51/100\n",
            "313/313 [==============================] - 14s 44ms/step - loss: 0.4117 - accuracy: 0.8117 - val_loss: 0.4277 - val_accuracy: 0.8066\n",
            "Epoch 52/100\n",
            "313/313 [==============================] - 14s 45ms/step - loss: 0.4108 - accuracy: 0.8124 - val_loss: 0.4272 - val_accuracy: 0.8060\n",
            "Epoch 53/100\n",
            "313/313 [==============================] - 14s 44ms/step - loss: 0.4103 - accuracy: 0.8145 - val_loss: 0.4291 - val_accuracy: 0.8080\n",
            "Epoch 54/100\n",
            "313/313 [==============================] - 14s 45ms/step - loss: 0.4080 - accuracy: 0.8169 - val_loss: 0.4277 - val_accuracy: 0.8030\n",
            "Epoch 55/100\n",
            "313/313 [==============================] - 14s 44ms/step - loss: 0.4090 - accuracy: 0.8134 - val_loss: 0.4279 - val_accuracy: 0.8052\n"
          ]
        }
      ]
    },
    {
      "cell_type": "code",
      "source": [
        "plt.plot(history.history['loss'])\n",
        "plt.plot(history.history['val_loss'])\n",
        "plt.xlabel('epoch')\n",
        "plt.ylabel('loss')\n",
        "plt.legend(['train','val'])\n",
        "plt.show()"
      ],
      "metadata": {
        "colab": {
          "base_uri": "https://localhost:8080/",
          "height": 279
        },
        "id": "DuZY2dY8Q89O",
        "outputId": "e5f254db-7be3-472e-e3e4-ed50a758e685"
      },
      "execution_count": null,
      "outputs": [
        {
          "output_type": "display_data",
          "data": {
            "text/plain": [
              "<Figure size 432x288 with 1 Axes>"
            ],
            "image/png": "[encoded data removed]"
          },
          "metadata": {
            "needs_background": "light"
          }
        }
      ]
    },
    {
      "cell_type": "code",
      "source": [
        "model3=keras.Sequential()\n",
        "model3.add(keras.layers.Embedding(500,16,input_length=100))\n",
        "model3.add(keras.layers.LSTM(8,dropout=0.3, return_sequences=True))#케라스의 순환층에서 모든 타임스텝의 은닉 상태를 출력하기위해서는 마지막을 제외한 다른 모든 순환층에서 return_sequence 매개변수를 True로 지정\n",
        "model3.add(keras.layers.LSTM(8,dropout=0.3))\n",
        "model3.add(keras.layers.Dense(1,activation='sigmoid'))\n",
        "model3.summary()"
      ],
      "metadata": {
        "colab": {
          "base_uri": "https://localhost:8080/"
        },
        "id": "nDE0NT5sRI7g",
        "outputId": "d416640b-9aa5-4019-9947-13a7c50302cd"
      },
      "execution_count": null,
      "outputs": [
        {
          "output_type": "stream",
          "name": "stdout",
          "text": [
            "Model: \"sequential_6\"\n",
            "_________________________________________________________________\n",
            " Layer (type)                Output Shape              Param #   \n",
            "=================================================================\n",
            " embedding_6 (Embedding)     (None, 100, 16)           8000      \n",
            "                                                                 \n",
            " lstm_6 (LSTM)               (None, 100, 8)            800       \n",
            "                                                                 \n",
            " lstm_7 (LSTM)               (None, 8)                 544       \n",
            "                                                                 \n",
            " dense_5 (Dense)             (None, 1)                 9         \n",
            "                                                                 \n",
            "=================================================================\n",
            "Total params: 9,353\n",
            "Trainable params: 9,353\n",
            "Non-trainable params: 0\n",
            "_________________________________________________________________\n"
          ]
        }
      ]
    },
    {
      "cell_type": "code",
      "source": [
        "rmsprop=keras.optimizers.RMSprop(learning_rate=1e-4)\n",
        "model3.compile(optimizer=rmsprop, loss='binary_crossentropy', metrics=['accuracy'])\n",
        "checkpoint_cb=keras.callbacks.ModelCheckpoint('best-2rnn-model.h5',save_best_only=True)\n",
        "early_stopping_cb = keras.callbacks.EarlyStopping(patience=3,restore_best_weights=True)\n",
        "history = model3.fit(train_seq,train_target,epochs=100,batch_size=64,validation_data=(val_seq,val_target),callbacks=[checkpoint_cb,early_stopping_cb])"
      ],
      "metadata": {
        "colab": {
          "base_uri": "https://localhost:8080/"
        },
        "id": "p_LOnxguRqKj",
        "outputId": "5a0a8aa7-6473-433f-9674-298455b313bf"
      },
      "execution_count": null,
      "outputs": [
        {
          "output_type": "stream",
          "name": "stdout",
          "text": [
            "Epoch 1/100\n",
            "313/313 [==============================] - 32s 86ms/step - loss: 0.6930 - accuracy: 0.5127 - val_loss: 0.6929 - val_accuracy: 0.5146\n",
            "Epoch 2/100\n",
            "313/313 [==============================] - 26s 83ms/step - loss: 0.6919 - accuracy: 0.5512 - val_loss: 0.6913 - val_accuracy: 0.5648\n",
            "Epoch 3/100\n",
            "313/313 [==============================] - 26s 83ms/step - loss: 0.6884 - accuracy: 0.6055 - val_loss: 0.6849 - val_accuracy: 0.6344\n",
            "Epoch 4/100\n",
            "313/313 [==============================] - 26s 83ms/step - loss: 0.6690 - accuracy: 0.6621 - val_loss: 0.6375 - val_accuracy: 0.6912\n",
            "Epoch 5/100\n",
            "313/313 [==============================] - 27s 86ms/step - loss: 0.5847 - accuracy: 0.7128 - val_loss: 0.5539 - val_accuracy: 0.7292\n",
            "Epoch 6/100\n",
            "313/313 [==============================] - 26s 83ms/step - loss: 0.5385 - accuracy: 0.7401 - val_loss: 0.5215 - val_accuracy: 0.7486\n",
            "Epoch 7/100\n",
            "313/313 [==============================] - 26s 84ms/step - loss: 0.5123 - accuracy: 0.7580 - val_loss: 0.4996 - val_accuracy: 0.7634\n",
            "Epoch 8/100\n",
            "313/313 [==============================] - 26s 83ms/step - loss: 0.4961 - accuracy: 0.7668 - val_loss: 0.4892 - val_accuracy: 0.7736\n",
            "Epoch 9/100\n",
            "313/313 [==============================] - 26s 82ms/step - loss: 0.4832 - accuracy: 0.7732 - val_loss: 0.4761 - val_accuracy: 0.7810\n",
            "Epoch 10/100\n",
            "313/313 [==============================] - 26s 83ms/step - loss: 0.4746 - accuracy: 0.7792 - val_loss: 0.4666 - val_accuracy: 0.7818\n",
            "Epoch 11/100\n",
            "313/313 [==============================] - 25s 81ms/step - loss: 0.4655 - accuracy: 0.7843 - val_loss: 0.4606 - val_accuracy: 0.7850\n",
            "Epoch 12/100\n",
            "313/313 [==============================] - 26s 83ms/step - loss: 0.4589 - accuracy: 0.7896 - val_loss: 0.4553 - val_accuracy: 0.7868\n",
            "Epoch 13/100\n",
            "313/313 [==============================] - 27s 85ms/step - loss: 0.4550 - accuracy: 0.7926 - val_loss: 0.4519 - val_accuracy: 0.7890\n",
            "Epoch 14/100\n",
            "313/313 [==============================] - 26s 84ms/step - loss: 0.4503 - accuracy: 0.7936 - val_loss: 0.4500 - val_accuracy: 0.7912\n",
            "Epoch 15/100\n",
            "313/313 [==============================] - 26s 82ms/step - loss: 0.4458 - accuracy: 0.7942 - val_loss: 0.4461 - val_accuracy: 0.7934\n",
            "Epoch 16/100\n",
            "313/313 [==============================] - 26s 84ms/step - loss: 0.4450 - accuracy: 0.7952 - val_loss: 0.4454 - val_accuracy: 0.7924\n",
            "Epoch 17/100\n",
            "313/313 [==============================] - 27s 88ms/step - loss: 0.4393 - accuracy: 0.7981 - val_loss: 0.4448 - val_accuracy: 0.7962\n",
            "Epoch 18/100\n",
            "313/313 [==============================] - 26s 83ms/step - loss: 0.4375 - accuracy: 0.8002 - val_loss: 0.4418 - val_accuracy: 0.7954\n",
            "Epoch 19/100\n",
            "313/313 [==============================] - 26s 85ms/step - loss: 0.4369 - accuracy: 0.7983 - val_loss: 0.4413 - val_accuracy: 0.7974\n",
            "Epoch 20/100\n",
            "313/313 [==============================] - 26s 84ms/step - loss: 0.4324 - accuracy: 0.8032 - val_loss: 0.4396 - val_accuracy: 0.7976\n",
            "Epoch 21/100\n",
            "313/313 [==============================] - 27s 86ms/step - loss: 0.4347 - accuracy: 0.7997 - val_loss: 0.4384 - val_accuracy: 0.7990\n",
            "Epoch 22/100\n",
            "313/313 [==============================] - 27s 86ms/step - loss: 0.4302 - accuracy: 0.8031 - val_loss: 0.4377 - val_accuracy: 0.7928\n",
            "Epoch 23/100\n",
            "313/313 [==============================] - 27s 87ms/step - loss: 0.4308 - accuracy: 0.8028 - val_loss: 0.4397 - val_accuracy: 0.7890\n",
            "Epoch 24/100\n",
            "313/313 [==============================] - 27s 87ms/step - loss: 0.4281 - accuracy: 0.8043 - val_loss: 0.4353 - val_accuracy: 0.7996\n",
            "Epoch 25/100\n",
            "313/313 [==============================] - 29s 91ms/step - loss: 0.4276 - accuracy: 0.8051 - val_loss: 0.4361 - val_accuracy: 0.7944\n",
            "Epoch 26/100\n",
            "313/313 [==============================] - 29s 91ms/step - loss: 0.4275 - accuracy: 0.8051 - val_loss: 0.4357 - val_accuracy: 0.7934\n",
            "Epoch 27/100\n",
            "313/313 [==============================] - 27s 87ms/step - loss: 0.4244 - accuracy: 0.8061 - val_loss: 0.4411 - val_accuracy: 0.8014\n"
          ]
        }
      ]
    },
    {
      "cell_type": "code",
      "source": [
        "plt.plot(history.history['loss'])\n",
        "plt.plot(history.history['val_loss'])\n",
        "plt.xlabel('epoch')\n",
        "plt.ylabel('loss')\n",
        "plt.legend(['train','val'])\n",
        "plt.show()"
      ],
      "metadata": {
        "id": "yG8Gks--Rnnd",
        "colab": {
          "base_uri": "https://localhost:8080/",
          "height": 279
        },
        "outputId": "1fc051ad-d7ec-4857-8fcf-5c5b2a9c2b32"
      },
      "execution_count": null,
      "outputs": [
        {
          "output_type": "display_data",
          "data": {
            "text/plain": [
              "<Figure size 432x288 with 1 Axes>"
            ],
            "image/png": "[encoded data removed]"
          },
          "metadata": {
            "needs_background": "light"
          }
        }
      ]
    },
    {
      "cell_type": "code",
      "source": [
        "#GRU(Gated Recurrent Unit) : LSTM과 달리 셀 상태를 계산하지 않고, 은닉 상태 하나만 포함. LSTM에 비해 가중치가 적기 때문에 계산량이 적지만, LSTM와 비슷한 성능을 냄\n",
        "model4 = keras.Sequential()\n",
        "model4.add(keras.layers.Embedding(500,16,input_length=100)) #입력에 곱하는 가중치 16*8, 은닉 상태에 곱하는 가중치 8*8, 절편 8, GRU의 셀의 갯수는 3개 따라서 (16*8 + 8*8 + 8) * 3 = 600 + 뉴런의 개수 8 * 작은 셀마다 하나씩 절편이 있음→GRU 절편수 3 = 624\n",
        "model4.add(keras.layers.GRU(8))\n",
        "model4.add(keras.layers.Dense(1,activation='sigmoid'))\n",
        "model4.summary()"
      ],
      "metadata": {
        "id": "tOlnCLUzSLqv",
        "colab": {
          "base_uri": "https://localhost:8080/"
        },
        "outputId": "e6b19d3f-6cae-449c-af9b-2f9aa93c12c0"
      },
      "execution_count": null,
      "outputs": [
        {
          "output_type": "stream",
          "name": "stdout",
          "text": [
            "Model: \"sequential_7\"\n",
            "_________________________________________________________________\n",
            " Layer (type)                Output Shape              Param #   \n",
            "=================================================================\n",
            " embedding_7 (Embedding)     (None, 100, 16)           8000      \n",
            "                                                                 \n",
            " gru (GRU)                   (None, 8)                 624       \n",
            "                                                                 \n",
            " dense_6 (Dense)             (None, 1)                 9         \n",
            "                                                                 \n",
            "=================================================================\n",
            "Total params: 8,633\n",
            "Trainable params: 8,633\n",
            "Non-trainable params: 0\n",
            "_________________________________________________________________\n"
          ]
        }
      ]
    },
    {
      "cell_type": "code",
      "source": [
        "rmsprop=keras.optimizers.RMSprop(learning_rate=1e-4)\n",
        "model4.compile(optimizer=rmsprop, loss='binary_crossentropy', metrics=['accuracy'])\n",
        "checkpoint_cb=keras.callbacks.ModelCheckpoint('best-gru-model.h5',save_best_only=True)\n",
        "early_stopping_cb = keras.callbacks.EarlyStopping(patience=3,restore_best_weights=True)\n",
        "history = model4.fit(train_seq,train_target,epochs=100,batch_size=64,validation_data=(val_seq,val_target),callbacks=[checkpoint_cb,early_stopping_cb])"
      ],
      "metadata": {
        "id": "w4HGsG4DSjmM",
        "colab": {
          "base_uri": "https://localhost:8080/"
        },
        "outputId": "3ea0951d-c0eb-42d3-d435-0fa8082f456a"
      },
      "execution_count": null,
      "outputs": [
        {
          "output_type": "stream",
          "name": "stdout",
          "text": [
            "Epoch 1/100\n",
            "313/313 [==============================] - 18s 50ms/step - loss: 0.6923 - accuracy: 0.5411 - val_loss: 0.6918 - val_accuracy: 0.5458\n",
            "Epoch 2/100\n",
            "313/313 [==============================] - 15s 49ms/step - loss: 0.6900 - accuracy: 0.5814 - val_loss: 0.6892 - val_accuracy: 0.5780\n",
            "Epoch 3/100\n",
            "313/313 [==============================] - 15s 48ms/step - loss: 0.6864 - accuracy: 0.6048 - val_loss: 0.6851 - val_accuracy: 0.5924\n",
            "Epoch 4/100\n",
            "313/313 [==============================] - 16s 51ms/step - loss: 0.6807 - accuracy: 0.6194 - val_loss: 0.6789 - val_accuracy: 0.5984\n",
            "Epoch 5/100\n",
            "313/313 [==============================] - 15s 49ms/step - loss: 0.6720 - accuracy: 0.6271 - val_loss: 0.6694 - val_accuracy: 0.6186\n",
            "Epoch 6/100\n",
            "313/313 [==============================] - 15s 48ms/step - loss: 0.6590 - accuracy: 0.6413 - val_loss: 0.6552 - val_accuracy: 0.6302\n",
            "Epoch 7/100\n",
            "313/313 [==============================] - 15s 47ms/step - loss: 0.6394 - accuracy: 0.6575 - val_loss: 0.6333 - val_accuracy: 0.6526\n",
            "Epoch 8/100\n",
            "313/313 [==============================] - 15s 47ms/step - loss: 0.6070 - accuracy: 0.6825 - val_loss: 0.5958 - val_accuracy: 0.6904\n",
            "Epoch 9/100\n",
            "313/313 [==============================] - 14s 46ms/step - loss: 0.5577 - accuracy: 0.7211 - val_loss: 0.5480 - val_accuracy: 0.7324\n",
            "Epoch 10/100\n",
            "313/313 [==============================] - 14s 46ms/step - loss: 0.5245 - accuracy: 0.7452 - val_loss: 0.5285 - val_accuracy: 0.7440\n",
            "Epoch 11/100\n",
            "313/313 [==============================] - 14s 45ms/step - loss: 0.5088 - accuracy: 0.7565 - val_loss: 0.5189 - val_accuracy: 0.7544\n",
            "Epoch 12/100\n",
            "313/313 [==============================] - 14s 46ms/step - loss: 0.4980 - accuracy: 0.7620 - val_loss: 0.5104 - val_accuracy: 0.7586\n",
            "Epoch 13/100\n",
            "313/313 [==============================] - 14s 45ms/step - loss: 0.4896 - accuracy: 0.7686 - val_loss: 0.5022 - val_accuracy: 0.7640\n",
            "Epoch 14/100\n",
            "313/313 [==============================] - 15s 47ms/step - loss: 0.4813 - accuracy: 0.7737 - val_loss: 0.4959 - val_accuracy: 0.7644\n",
            "Epoch 15/100\n",
            "313/313 [==============================] - 15s 48ms/step - loss: 0.4751 - accuracy: 0.7776 - val_loss: 0.4924 - val_accuracy: 0.7656\n",
            "Epoch 16/100\n",
            "313/313 [==============================] - 15s 49ms/step - loss: 0.4699 - accuracy: 0.7809 - val_loss: 0.4891 - val_accuracy: 0.7656\n",
            "Epoch 17/100\n",
            "313/313 [==============================] - 15s 48ms/step - loss: 0.4647 - accuracy: 0.7843 - val_loss: 0.4839 - val_accuracy: 0.7694\n",
            "Epoch 18/100\n",
            "313/313 [==============================] - 14s 46ms/step - loss: 0.4603 - accuracy: 0.7885 - val_loss: 0.4790 - val_accuracy: 0.7750\n",
            "Epoch 19/100\n",
            "313/313 [==============================] - 15s 47ms/step - loss: 0.4561 - accuracy: 0.7918 - val_loss: 0.4771 - val_accuracy: 0.7758\n",
            "Epoch 20/100\n",
            "313/313 [==============================] - 14s 46ms/step - loss: 0.4524 - accuracy: 0.7933 - val_loss: 0.4737 - val_accuracy: 0.7806\n",
            "Epoch 21/100\n",
            "313/313 [==============================] - 15s 48ms/step - loss: 0.4484 - accuracy: 0.7952 - val_loss: 0.4725 - val_accuracy: 0.7774\n",
            "Epoch 22/100\n",
            "313/313 [==============================] - 15s 46ms/step - loss: 0.4454 - accuracy: 0.7980 - val_loss: 0.4683 - val_accuracy: 0.7772\n",
            "Epoch 23/100\n",
            "313/313 [==============================] - 15s 48ms/step - loss: 0.4431 - accuracy: 0.7977 - val_loss: 0.4665 - val_accuracy: 0.7786\n",
            "Epoch 24/100\n",
            "313/313 [==============================] - 15s 48ms/step - loss: 0.4403 - accuracy: 0.8008 - val_loss: 0.4676 - val_accuracy: 0.7872\n",
            "Epoch 25/100\n",
            "313/313 [==============================] - 14s 46ms/step - loss: 0.4387 - accuracy: 0.8030 - val_loss: 0.4620 - val_accuracy: 0.7830\n",
            "Epoch 26/100\n",
            "313/313 [==============================] - 14s 46ms/step - loss: 0.4361 - accuracy: 0.8044 - val_loss: 0.4630 - val_accuracy: 0.7778\n",
            "Epoch 27/100\n",
            "313/313 [==============================] - 14s 46ms/step - loss: 0.4342 - accuracy: 0.8058 - val_loss: 0.4636 - val_accuracy: 0.7890\n",
            "Epoch 28/100\n",
            "313/313 [==============================] - 15s 49ms/step - loss: 0.4321 - accuracy: 0.8060 - val_loss: 0.4623 - val_accuracy: 0.7792\n"
          ]
        }
      ]
    },
    {
      "cell_type": "code",
      "source": [
        "plt.plot(history.history['loss'])\n",
        "plt.plot(history.history['val_loss'])\n",
        "plt.xlabel('epoch')\n",
        "plt.ylabel('loss')\n",
        "plt.legend(['train','val'])\n",
        "plt.show()"
      ],
      "metadata": {
        "id": "XsY0JalaS34v",
        "colab": {
          "base_uri": "https://localhost:8080/",
          "height": 279
        },
        "outputId": "c8a1628b-edd8-4daf-a9c2-240c98d91712"
      },
      "execution_count": null,
      "outputs": [
        {
          "output_type": "display_data",
          "data": {
            "text/plain": [
              "<Figure size 432x288 with 1 Axes>"
            ],
            "image/png": "[encoded data removed]"
          },
          "metadata": {
            "needs_background": "light"
          }
        }
      ]
    },
    {
      "cell_type": "code",
      "source": [
        "test_seq = pad_sequences(test_input, maxlen=100)\n",
        "rnn_model=keras.models.load_model('best-2rnn-model.h5')\n",
        "rnn_model.evaluate(test_seq,test_target)"
      ],
      "metadata": {
        "id": "WgK_rHxVS6Bo",
        "colab": {
          "base_uri": "https://localhost:8080/"
        },
        "outputId": "51ae9fff-3bbd-4d15-cff4-de65d99328d1"
      },
      "execution_count": null,
      "outputs": [
        {
          "output_type": "stream",
          "name": "stdout",
          "text": [
            "782/782 [==============================] - 13s 15ms/step - loss: 0.4316 - accuracy: 0.7978\n"
          ]
        },
        {
          "output_type": "execute_result",
          "data": {
            "text/plain": [
              "[0.431566059589386, 0.7978399991989136]"
            ]
          },
          "metadata": {},
          "execution_count": 27
        }
      ]
    }
  ]
}