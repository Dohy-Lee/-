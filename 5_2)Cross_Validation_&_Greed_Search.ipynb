{
  "nbformat": 4,
  "nbformat_minor": 0,
  "metadata": {
    "colab": {
      "name": "5-2)Cross Validation & Greed Search.ipynb",
      "provenance": [],
      "authorship_tag": "ABX9TyOPwNufChj2eM64AhxmsIEX",
      "include_colab_link": true
    },
    "kernelspec": {
      "name": "python3",
      "display_name": "Python 3"
    },
    "language_info": {
      "name": "python"
    }
  },
  "cells": [
    {
      "cell_type": "markdown",
      "metadata": {
        "id": "view-in-github",
        "colab_type": "text"
      },
      "source": [
        "<a href=\"https://colab.research.google.com/github/Dohy-Lee/ML_DL.Basic/blob/main/5_2)Cross_Validation_%26_Greed_Search.ipynb\" target=\"_parent\"><img src=\"https://colab.research.google.com/assets/colab-badge.svg\" alt=\"Open In Colab\"/></a>"
      ]
    },
    {
      "cell_type": "code",
      "metadata": {
        "id": "0xozhM4c1joK"
      },
      "source": [
        "#검증 세트(Validation Set) : 테스트 세트를 사용하지 않고, 훈련 세트를 다시 또 나눔\n",
        "import pandas as pd\n",
        "wine = pd.read_csv('https://bit.ly/wine_csv_data')\n",
        "data = wine[['alcohol','sugar','pH']].to_numpy()\n",
        "target=wine['class'].to_numpy()"
      ],
      "execution_count": 4,
      "outputs": []
    },
    {
      "cell_type": "code",
      "metadata": {
        "colab": {
          "base_uri": "https://localhost:8080/"
        },
        "id": "4XWmR1nPZhD2",
        "outputId": "baa60eca-933e-4393-ebeb-86d44ae040e7"
      },
      "source": [
        "from sklearn.model_selection import train_test_split\n",
        "train_input,test_input,train_target,test_target = train_test_split(data,target,test_size=0.2,random_state=42) #sub : 훈련 세트, val : 검증 세트\n",
        "sub_input,val_input,sub_target,val_target = train_test_split(train_input,train_target, test_size=0.2,random_state = 42)\n",
        "print(sub_input.shape, val_input.shape)"
      ],
      "execution_count": 5,
      "outputs": [
        {
          "output_type": "stream",
          "text": [
            "(4157, 3) (1040, 3)\n"
          ],
          "name": "stdout"
        }
      ]
    },
    {
      "cell_type": "code",
      "metadata": {
        "colab": {
          "base_uri": "https://localhost:8080/"
        },
        "id": "6sY-YEHDZ-Ne",
        "outputId": "ee6b75a3-69d1-4a4c-af03-3014b06e8bbc"
      },
      "source": [
        "from sklearn.tree import DecisionTreeClassifier\n",
        "dt = DecisionTreeClassifier(random_state = 42)\n",
        "dt.fit(sub_input, sub_target)\n",
        "print(dt.score(sub_input, sub_target))\n",
        "print(dt.score(val_input, val_target))"
      ],
      "execution_count": 6,
      "outputs": [
        {
          "output_type": "stream",
          "text": [
            "0.9971133028626413\n",
            "0.864423076923077\n"
          ],
          "name": "stdout"
        }
      ]
    },
    {
      "cell_type": "code",
      "metadata": {
        "colab": {
          "base_uri": "https://localhost:8080/"
        },
        "id": "eexgG_lNaq4B",
        "outputId": "2861703b-b2ae-4af0-c1ef-b96755f57f60"
      },
      "source": [
        "#교차 검증(Cross Validation) : 검증 세트를 떼어 내어 평가하는 과정을 반복\n",
        "from sklearn.model_selection import cross_validate\n",
        "scores = cross_validate(dt, train_input, train_target)\n",
        "print(scores)"
      ],
      "execution_count": 7,
      "outputs": [
        {
          "output_type": "stream",
          "text": [
            "{'fit_time': array([0.00798702, 0.00698495, 0.00720215, 0.00710416, 0.00689483]), 'score_time': array([0.00070453, 0.00059962, 0.00059152, 0.00059867, 0.00060654]), 'test_score': array([0.86923077, 0.84615385, 0.87680462, 0.84889317, 0.83541867])}\n"
          ],
          "name": "stdout"
        }
      ]
    },
    {
      "cell_type": "markdown",
      "metadata": {
        "id": "SiJJZU8GcQyN"
      },
      "source": [
        "fit_time : 모델을 훈련하는 시간 \n",
        "score_time : 검증하는 시간\n",
        "test_score : 검증 폴드의 점수"
      ]
    },
    {
      "cell_type": "code",
      "metadata": {
        "colab": {
          "base_uri": "https://localhost:8080/"
        },
        "id": "sj-Ys300cBC-",
        "outputId": "9f1be641-a246-4b91-bca0-4bf8d9628cb2"
      },
      "source": [
        "import numpy as np\n",
        "print(np.mean(scores['test_score']))"
      ],
      "execution_count": 8,
      "outputs": [
        {
          "output_type": "stream",
          "text": [
            "0.855300214703487\n"
          ],
          "name": "stdout"
        }
      ]
    },
    {
      "cell_type": "code",
      "metadata": {
        "colab": {
          "base_uri": "https://localhost:8080/"
        },
        "id": "OFm5HSK8cqd-",
        "outputId": "c0e68a5f-0a9e-4432-cdef-66734abaad7f"
      },
      "source": [
        "#cross_validate는 훈련 세트를 섞어 폴드를 나누지 않음. 따라서 train_test_split을 쓰지 않았을 경우,훈련 세트를 섞어 줄 분할기(splitter)를 지정해야함\n",
        "#일반적으로 KFold : 회귀 모델, StratifiedKFold : 분류모델\n",
        "#앞서한 코드를 분할기를 사용하여 작성한다면 아래와 같음\n",
        "from sklearn.model_selection import StratifiedKFold\n",
        "scores = cross_validate(dt, train_input, train_target, cv=StratifiedKFold())\n",
        "print(np.mean(scores['test_score']))"
      ],
      "execution_count": 9,
      "outputs": [
        {
          "output_type": "stream",
          "text": [
            "0.855300214703487\n"
          ],
          "name": "stdout"
        }
      ]
    },
    {
      "cell_type": "code",
      "metadata": {
        "colab": {
          "base_uri": "https://localhost:8080/"
        },
        "id": "oSKa8Kf1dng5",
        "outputId": "ffdd4d61-d0c9-470b-a3ce-6a747db8e3f4"
      },
      "source": [
        "splitter = StratifiedKFold(n_splits= 10, shuffle = True, random_state = 42)\n",
        "scores = cross_validate(dt, train_input, train_target, cv=splitter)\n",
        "print(np.mean(scores['test_score']))"
      ],
      "execution_count": 10,
      "outputs": [
        {
          "output_type": "stream",
          "text": [
            "0.8574181117533719\n"
          ],
          "name": "stdout"
        }
      ]
    },
    {
      "cell_type": "code",
      "metadata": {
        "colab": {
          "base_uri": "https://localhost:8080/"
        },
        "id": "8jDwkqeVeMIn",
        "outputId": "e2fdb36a-3de1-42bd-af73-36e3c728fe0a"
      },
      "source": [
        "#그리드 서치(Greed Search) : 하이퍼파라미터의 최적의 값을 찾아줌\n",
        "#GridSearchCV : 하이퍼파리미터 탐색 + 교차 검증\n",
        "#예제 결정트리에서 min_impurity_decrease 최적값 찾기\n",
        "from sklearn.model_selection import GridSearchCV\n",
        "params = {'min_impurity_decrease' : [0.0001, 0.0002, 0.0003, 0.0004, 0.0005]}\n",
        "gs = GridSearchCV(DecisionTreeClassifier(random_state=42), params, n_jobs = -1)\n",
        "gs.fit(train_input, train_target)\n",
        "dt = gs.best_estimator_ #best_estimator에는 검증 점수가 가장 높은 모델의 매개변수 조합으로 전체 훈련 세트에서 자동으로 다시 모델을 훈련한 모델이 담겨있음\n",
        "print(dt.score(train_input, train_target))\n",
        "print(gs.best_params_) #best_params_ : 그리드 서치로 찾은 최적의 매개변수가 저장되어 있음\n",
        "print(gs.cv_results_['mean_test_score']) #mean_test_score : 각 매개변수에서 수행한 교차 검증의 평균 점수가 저장되어 있음"
      ],
      "execution_count": 13,
      "outputs": [
        {
          "output_type": "stream",
          "text": [
            "0.9615162593804117\n",
            "{'min_impurity_decrease': 0.0001}\n",
            "[0.86819297 0.86453617 0.86492226 0.86780891 0.86761605]\n"
          ],
          "name": "stdout"
        }
      ]
    },
    {
      "cell_type": "code",
      "metadata": {
        "colab": {
          "base_uri": "https://localhost:8080/"
        },
        "id": "ZluQ38x-YLJA",
        "outputId": "255f99a2-f5c2-4258-8169-38855f63f2f9"
      },
      "source": [
        "best_index = np.argmax(gs.cv_results_['mean_test_score'])\n",
        "print(gs.cv_results_['params'][best_index])"
      ],
      "execution_count": 14,
      "outputs": [
        {
          "output_type": "stream",
          "text": [
            "{'min_impurity_decrease': 0.0001}\n"
          ],
          "name": "stdout"
        }
      ]
    },
    {
      "cell_type": "code",
      "metadata": {
        "id": "YyVKMgEjdDGf"
      },
      "source": [
        "params = {'min_impurity_decrease':np.arange(0.0001, 0.001, 0.0001),'max_depth' : range(5,20,1), 'min_samples_split' : range(2,100,10)}"
      ],
      "execution_count": 15,
      "outputs": []
    },
    {
      "cell_type": "code",
      "metadata": {
        "colab": {
          "base_uri": "https://localhost:8080/"
        },
        "id": "09xIJ8SJeCp9",
        "outputId": "d4e5c830-c6a9-485f-d174-8c8c280499cd"
      },
      "source": [
        "gs = GridSearchCV(DecisionTreeClassifier(random_state=42), params, n_jobs = -1)\n",
        "gs.fit(train_input, train_target)\n",
        "print(gs.best_params_)\n",
        "print(np.max(gs.cv_results_['mean_test_score']))"
      ],
      "execution_count": 18,
      "outputs": [
        {
          "output_type": "stream",
          "text": [
            "{'max_depth': 14, 'min_impurity_decrease': 0.0004, 'min_samples_split': 12}\n",
            "0.8683865773302731\n"
          ],
          "name": "stdout"
        }
      ]
    },
    {
      "cell_type": "code",
      "metadata": {
        "colab": {
          "base_uri": "https://localhost:8080/"
        },
        "id": "_zUeZgu9erOj",
        "outputId": "7496b5a6-088b-493e-e19e-5dcad91cd664"
      },
      "source": [
        "from scipy.stats import uniform, randint #uniform, randint : 모두 주어진 범위에서 고르게 값을 뽑아서 '균등 분포에서 샘플링한다'라고 함\n",
        "rgen = randint(0,10)\n",
        "rgen.rvs(10)"
      ],
      "execution_count": 23,
      "outputs": [
        {
          "output_type": "execute_result",
          "data": {
            "text/plain": [
              "array([1, 6, 9, 8, 2, 1, 7, 5, 2, 2])"
            ]
          },
          "metadata": {},
          "execution_count": 23
        }
      ]
    },
    {
      "cell_type": "code",
      "metadata": {
        "colab": {
          "base_uri": "https://localhost:8080/"
        },
        "id": "8XNnYF05jnWO",
        "outputId": "8ba4195f-8fd3-406c-91af-3f0420a9699e"
      },
      "source": [
        "np.unique(rgen.rvs(1000), return_counts=True)"
      ],
      "execution_count": 25,
      "outputs": [
        {
          "output_type": "execute_result",
          "data": {
            "text/plain": [
              "(array([0, 1, 2, 3, 4, 5, 6, 7, 8, 9]),\n",
              " array([106,  93, 101, 110, 117,  97,  94, 103,  93,  86]))"
            ]
          },
          "metadata": {},
          "execution_count": 25
        }
      ]
    },
    {
      "cell_type": "code",
      "metadata": {
        "colab": {
          "base_uri": "https://localhost:8080/"
        },
        "id": "EkhEX3Bem5pS",
        "outputId": "36632f58-33f4-4f70-aa45-48aecdbf1525"
      },
      "source": [
        "ugen = uniform(0,1)\n",
        "ugen.rvs(10)"
      ],
      "execution_count": 26,
      "outputs": [
        {
          "output_type": "execute_result",
          "data": {
            "text/plain": [
              "array([0.56059797, 0.19504013, 0.889912  , 0.37861881, 0.5311432 ,\n",
              "       0.3549928 , 0.10244935, 0.92141869, 0.58495148, 0.75768224])"
            ]
          },
          "metadata": {},
          "execution_count": 26
        }
      ]
    },
    {
      "cell_type": "code",
      "metadata": {
        "id": "-6bechg7m-IV"
      },
      "source": [
        "params = {'min_impurity_decrease' : uniform(0.0001, 0.001),\n",
        "          'max_depth' : randint(20,50),\n",
        "          'min_samples_split' : randint(2,25),\n",
        "          'min_samples_leaf' : randint(1,25),\n",
        "          }"
      ],
      "execution_count": 27,
      "outputs": []
    },
    {
      "cell_type": "code",
      "metadata": {
        "colab": {
          "base_uri": "https://localhost:8080/"
        },
        "id": "p0i-yjHPnZfJ",
        "outputId": "abd14ee3-edf4-4086-85e3-c7fb52b0f717"
      },
      "source": [
        "from sklearn.model_selection import RandomizedSearchCV\n",
        "gs = RandomizedSearchCV(DecisionTreeClassifier(random_state = 42), params, n_iter = 100, n_jobs = -1, random_state = 42)\n",
        "gs.fit(train_input, train_target)\n",
        "print(gs.best_params_)"
      ],
      "execution_count": 28,
      "outputs": [
        {
          "output_type": "stream",
          "text": [
            "{'max_depth': 39, 'min_impurity_decrease': 0.00034102546602601173, 'min_samples_leaf': 7, 'min_samples_split': 13}\n"
          ],
          "name": "stdout"
        }
      ]
    },
    {
      "cell_type": "code",
      "metadata": {
        "colab": {
          "base_uri": "https://localhost:8080/"
        },
        "id": "v9TLi6Jen9co",
        "outputId": "086b90c7-1472-4c38-8f82-b81448a4901c"
      },
      "source": [
        "print(np.max(gs.cv_results_['mean_test_score']))\n",
        "dt = gs.best_estimator_\n",
        "print(dt.score(test_input, test_target))"
      ],
      "execution_count": 29,
      "outputs": [
        {
          "output_type": "stream",
          "text": [
            "0.8695428296438884\n",
            "0.86\n"
          ],
          "name": "stdout"
        }
      ]
    }
  ]
}